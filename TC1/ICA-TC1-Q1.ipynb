{
 "cells": [
  {
   "cell_type": "markdown",
   "metadata": {},
   "source": [
    "<center><h1><b>Trabalho Computacional 01 </b></h1></center>\n",
    "\n",
    "Autor: Rômulo Bandeira Pimentel Drumond"
   ]
  },
  {
   "cell_type": "markdown",
   "metadata": {},
   "source": [
    "<h2>1. Questão 01</h2>"
   ]
  },
  {
   "cell_type": "markdown",
   "metadata": {},
   "source": [
    "Na Questão 01 foi apresentado o conjunto de dados da Figura `\\ref{fig:datasetForbes}`, nele consta medidas de pressão atmosférica e temperatura de ebulição da água para diferentes níveis de altitude. \n",
    "\n",
    "Figura: Conjunto de dados do experimento de Forbes\n",
    "<img src=\"files/datasetForbes.png\" style=\"width:60%;\">\n",
    "<small>Fonte: `\\cite{TC1_ICA2018.pdf}`</small>\n",
    "\n",
    "O primeiro passo realizado para a análise dos dados foi, devido a sua natureza bidimensional, plotar a relação entre temperatura de ebulição e pressão atmosférica. O código utilizado se encontra abaixo e o resultado na Figura `\\ref{fig:datasetPlotly}`."
   ]
  },
  {
   "cell_type": "code",
   "execution_count": 1,
   "metadata": {},
   "outputs": [],
   "source": [
    "# Dados do fenômeno\n",
    "te = {\n",
    "    'valores': [194.5, 194.3, 197.9, 198.4, 199.4, 199.9, 200.9, 201.1,\n",
    "              201.4, 201.3, 203.6, 204.6, 209.5, 208.6, 210.7, 211.9, 212.2],\n",
    "    'nome': \"Temperatura de ebulição (°F)\"\n",
    "}\n",
    "\n",
    "p = {\n",
    "    'valores': [20.79, 20.79, 22.40, 22.67, 23.15, 23.35, 23.89, 23.99, \n",
    "                24.02, 24.01, 25.14, 26.57, 28.49, 27.76, 29.04, 29.88, 30.06],\n",
    "    'nome': \"Pressão (polegadas de Hg)\"\n",
    "}"
   ]
  },
  {
   "cell_type": "code",
   "execution_count": 2,
   "metadata": {},
   "outputs": [
    {
     "data": {
      "text/html": [
       "<script>requirejs.config({paths: { 'plotly': ['https://cdn.plot.ly/plotly-latest.min']},});if(!window.Plotly) {{require(['plotly'],function(plotly) {window.Plotly=plotly;});}}</script>"
      ],
      "text/vnd.plotly.v1+html": [
       "<script>requirejs.config({paths: { 'plotly': ['https://cdn.plot.ly/plotly-latest.min']},});if(!window.Plotly) {{require(['plotly'],function(plotly) {window.Plotly=plotly;});}}</script>"
      ]
     },
     "metadata": {},
     "output_type": "display_data"
    },
    {
     "data": {
      "application/vnd.plotly.v1+json": {
       "data": [
        {
         "mode": "markers",
         "name": "dataset",
         "type": "scatter",
         "uid": "108c2cb8-a1de-11e8-84a2-d05349f0ce53",
         "x": [
          194.5,
          194.3,
          197.9,
          198.4,
          199.4,
          199.9,
          200.9,
          201.1,
          201.4,
          201.3,
          203.6,
          204.6,
          209.5,
          208.6,
          210.7,
          211.9,
          212.2
         ],
         "y": [
          20.79,
          20.79,
          22.4,
          22.67,
          23.15,
          23.35,
          23.89,
          23.99,
          24.02,
          24.01,
          25.14,
          26.57,
          28.49,
          27.76,
          29.04,
          29.88,
          30.06
         ]
        }
       ],
       "layout": {
        "title": "datasetPlotly",
        "xaxis": {
         "title": "Temperatura de ebulição (°F)",
         "titlefont": {
          "color": "#7f7f7f",
          "family": "Courier New, monospace",
          "size": 18
         }
        },
        "yaxis": {
         "title": "Pressão (polegadas de Hg)",
         "titlefont": {
          "color": "#7f7f7f",
          "family": "Courier New, monospace",
          "size": 18
         }
        }
       }
      },
      "text/html": [
       "<div id=\"66ce8130-74c5-4647-833a-dee58a443ad0\" style=\"height: 525px; width: 100%;\" class=\"plotly-graph-div\"></div><script type=\"text/javascript\">require([\"plotly\"], function(Plotly) { window.PLOTLYENV=window.PLOTLYENV || {};window.PLOTLYENV.BASE_URL=\"https://plot.ly\";\n",
       "        Plotly.plot(\n",
       "            '66ce8130-74c5-4647-833a-dee58a443ad0',\n",
       "            [{\"mode\": \"markers\", \"name\": \"dataset\", \"x\": [194.5, 194.3, 197.9, 198.4, 199.4, 199.9, 200.9, 201.1, 201.4, 201.3, 203.6, 204.6, 209.5, 208.6, 210.7, 211.9, 212.2], \"y\": [20.79, 20.79, 22.4, 22.67, 23.15, 23.35, 23.89, 23.99, 24.02, 24.01, 25.14, 26.57, 28.49, 27.76, 29.04, 29.88, 30.06], \"type\": \"scatter\", \"uid\": \"108c2cb8-a1de-11e8-84a2-d05349f0ce53\"}],\n",
       "            {\"title\": \"datasetPlotly\", \"xaxis\": {\"title\": \"Temperatura de ebuli\\u00e7\\u00e3o (\\u00b0F)\", \"titlefont\": {\"color\": \"#7f7f7f\", \"family\": \"Courier New, monospace\", \"size\": 18}}, \"yaxis\": {\"title\": \"Press\\u00e3o (polegadas de Hg)\", \"titlefont\": {\"color\": \"#7f7f7f\", \"family\": \"Courier New, monospace\", \"size\": 18}}},\n",
       "            {\"showLink\": true, \"linkText\": \"Export to plot.ly\"}\n",
       "        ).then(function () {return Plotly.addFrames('66ce8130-74c5-4647-833a-dee58a443ad0',{});}).then(function(){Plotly.animate('66ce8130-74c5-4647-833a-dee58a443ad0');})\n",
       "        });</script>"
      ],
      "text/vnd.plotly.v1+html": [
       "<div id=\"66ce8130-74c5-4647-833a-dee58a443ad0\" style=\"height: 525px; width: 100%;\" class=\"plotly-graph-div\"></div><script type=\"text/javascript\">require([\"plotly\"], function(Plotly) { window.PLOTLYENV=window.PLOTLYENV || {};window.PLOTLYENV.BASE_URL=\"https://plot.ly\";\n",
       "        Plotly.plot(\n",
       "            '66ce8130-74c5-4647-833a-dee58a443ad0',\n",
       "            [{\"mode\": \"markers\", \"name\": \"dataset\", \"x\": [194.5, 194.3, 197.9, 198.4, 199.4, 199.9, 200.9, 201.1, 201.4, 201.3, 203.6, 204.6, 209.5, 208.6, 210.7, 211.9, 212.2], \"y\": [20.79, 20.79, 22.4, 22.67, 23.15, 23.35, 23.89, 23.99, 24.02, 24.01, 25.14, 26.57, 28.49, 27.76, 29.04, 29.88, 30.06], \"type\": \"scatter\", \"uid\": \"108c2cb8-a1de-11e8-84a2-d05349f0ce53\"}],\n",
       "            {\"title\": \"datasetPlotly\", \"xaxis\": {\"title\": \"Temperatura de ebuli\\u00e7\\u00e3o (\\u00b0F)\", \"titlefont\": {\"color\": \"#7f7f7f\", \"family\": \"Courier New, monospace\", \"size\": 18}}, \"yaxis\": {\"title\": \"Press\\u00e3o (polegadas de Hg)\", \"titlefont\": {\"color\": \"#7f7f7f\", \"family\": \"Courier New, monospace\", \"size\": 18}}},\n",
       "            {\"showLink\": true, \"linkText\": \"Export to plot.ly\"}\n",
       "        ).then(function () {return Plotly.addFrames('66ce8130-74c5-4647-833a-dee58a443ad0',{});}).then(function(){Plotly.animate('66ce8130-74c5-4647-833a-dee58a443ad0');})\n",
       "        });</script>"
      ]
     },
     "metadata": {},
     "output_type": "display_data"
    }
   ],
   "source": [
    "# Plot dos dados\n",
    "import plotly.offline as plt\n",
    "import plotly.graph_objs as go\n",
    "plt.init_notebook_mode(connected=True) # habilitando plot dentro do jupyter notebook\n",
    "\n",
    "def plotData(x, y):\n",
    "    traceData = go.Scatter(\n",
    "        x = x['valores'], \n",
    "        y = y['valores'], \n",
    "        mode='markers',\n",
    "        name='dataset')\n",
    "    data = [traceData]\n",
    "    \n",
    "    # fonte do texto do eixos da figura\n",
    "    titlefont=dict(family='Courier New, monospace', size=18, color='#7f7f7f') \n",
    "    layoutData = go.Layout(\n",
    "        title = \"datasetPlotly\",\n",
    "        xaxis=dict(title=x['nome'], titlefont=titlefont),\n",
    "        yaxis=dict(title=y['nome'], titlefont=titlefont)\n",
    "    )\n",
    "\n",
    "    fig = go.Figure(data=data, layout=layoutData)\n",
    "    plt.iplot(fig)\n",
    "\n",
    "x = te\n",
    "y = p\n",
    "plotData(x, y)"
   ]
  },
  {
   "cell_type": "markdown",
   "metadata": {},
   "source": [
    "De forma a facilitar a compreensão deste trabalho a sequência de itens a, b, c e d proposta no documento `\\cite{TC1_ICA2018.pdf}` não foi seguida a risca, em vez disso, o que foi solicitado foi enumerado abaixo e o estudo teve sua sequência baseado nele.\n",
    "\n",
    "* Formulação do modelo estatístico e estimação dos parâmetros;\n",
    "* Validação do modelo:\n",
    "  * Estimação da variância do ruído a partir dos resíduos;\n",
    "  * Distribuição dos resíduos via coeficiente de determinação (R2), histograma e boxplot;\n",
    "  * Análise de outliers;\n",
    "  * Análise de aceitação do modelo proposto.\n",
    "* Reaplicação da metodologia de estudo na análise da dependência do logaritmo da pressão em relação ao ponto de ebulição;\n",
    "* Análise comparativa entre o modelo original e o modelo com o logaritmo da pressão."
   ]
  },
  {
   "cell_type": "markdown",
   "metadata": {},
   "source": [
    "<h3><b>\n",
    "1.1 Formulação do modelo estatístico e estimação de parâmetros\n",
    "</b></h3>"
   ]
  },
  {
   "cell_type": "markdown",
   "metadata": {},
   "source": [
    "O modelo mais simples que aparenta se adequar ao conjunto de dados é o linear, cuja forma é:\n",
    "\n",
    "$$y=ax+b$$\n",
    "\n",
    "Na equação acima $y$ é a variável dependente, visto que seu valor depende de $x$, que é a variável independente. Já as constantes $a$ e $b$ são os parâmetros do modelo linear. Para o problema proposto a pressão foi considerada a variável dependente ($y=p$) e a temperatura de ebulição a independente ($x=t_e$). Tratando-se de uma regressão ainda há uma variável extra: $\\epsilon$, que representa o erro aleatório normalmente associado a ruído de medição. Reescrevendo a equação temos:\n",
    "\n",
    "$$p=at_e+b+\\epsilon$$\n",
    "\n",
    "Algumas suposições desse modelo são que os erros possuem distribuição normal com média zero e variância $\\sigma^2$ e são estatísticamente independentes (não há correlação entre erros) `\\cite{Fundamentos de Regressão Linear.pdf}`.\n",
    "\n",
    "A escolha entre quem seria a variável dependente e independente do modelo se deu porque Forbes, através de seus experimentos, pretendia estimar a altitude, que possui relação com a pressão, após medir a temperatura de ebulição da água."
   ]
  },
  {
   "cell_type": "markdown",
   "metadata": {},
   "source": [
    "Após adotado o modelo linear restou a estimação dos parâmetros do mesmo. Sabendo que temos $n$ amostras podemos representar de forma mais compacta, usando vetores e matrizes, a equação:\n",
    "\n",
    "<center>$\\vec{x}=[x_1, x_2, \\dots , x_n]^t$</center>\n",
    "\n",
    "<center>$\\vec{y}=[y_1, y_2, \\dots , y_n]^t$</center>\n",
    "\n",
    "Onde $(x_i,y_i)$ é o ponto que representa a temperatura de ebulição com sua respectiva pressão atmosférica. Continuando o raciocínio:\n",
    "\n",
    "<center>$\\vec{y}=a\\vec{x}+b\\vec{1}_{nx1}+\\vec{e}$</center>\n",
    "\n",
    "Onde $\\vec{e}$ representa o vetor de erros cuja dimensão é $n$.\n",
    "\n",
    "<center>$\\vec{y}=\\big[\\vec{x}, \\vec{1}_{nx1}\\big] \\begin{bmatrix}a \\\\ b\\end{bmatrix} +\\vec{e}$</center>\n",
    "\n",
    "Mudando o nome das variáveis, temos:\n",
    "\n",
    "<center>$\\vec{y}_{\\text{nx1}}=A_{\\text{nx2}} \\vec{w}_{\\text{nx1}} + \\vec{e}_{\\text{nx1}}$</center>\n",
    "\n",
    "Supondo que o erro seja normal, aditivo e não-correlacionado, podemos estimar o vetor de parâmetros $\\vec{w}$ usando Mínimos Quadrados Ordinários, ou *Ordinary Least Squares* (OLS). Portanto, a solução da última equação pode ser expressa em termos da pseudo-inversa da matriz $A$ `\\cite{boyd}`:\n",
    "\n",
    "<center>$\\vec{w}=A^{\\dagger} \\vec{y}$</center>\n",
    "\n",
    "O código abaixo foi utilizado para estimar os parâmetros. Como comparativo foi aplicado também as funções prontas da biblioteca *scikit-learn* para averiguar a similaridade dos métodos numéricos."
   ]
  },
  {
   "cell_type": "code",
   "execution_count": 3,
   "metadata": {},
   "outputs": [
    {
     "name": "stdout",
     "output_type": "stream",
     "text": [
      "Os parâmetros ótimos do modelo linear são: \n",
      "a  = 0.5228924007846376\n",
      "b = -81.0637271286563\n"
     ]
    }
   ],
   "source": [
    "# Ordinary Least Squares\n",
    "import numpy as np\n",
    "from numpy.linalg import pinv\n",
    "\n",
    "def ols(x, y):\n",
    "    n = len(x['valores']) # tamanho do conjunto de dados\n",
    "    \n",
    "    # Aw = y\n",
    "    ones = [1 for _ in range(0,n)]\n",
    "    A = np.array([x['valores'], ones]).transpose()\n",
    "    \n",
    "    # pseudo-inverse of A\n",
    "    A_cross = pinv(A)\n",
    "\n",
    "    # w = A_cross*y\n",
    "    w = np.matmul(A_cross, y['valores'])\n",
    "    \n",
    "    return w\n",
    "\n",
    "w = ols(x, y)\n",
    "print(\"Os parâmetros ótimos do modelo linear são: \\na  = {}\\nb = {}\".format(w[0], w[1]))"
   ]
  },
  {
   "cell_type": "code",
   "execution_count": 4,
   "metadata": {},
   "outputs": [
    {
     "name": "stdout",
     "output_type": "stream",
     "text": [
      "Resultados com scikit-learn:\n",
      "a = 0.5228924007846357\n",
      "b = -81.06372712865588\n"
     ]
    }
   ],
   "source": [
    "# Comparativo com scikit-learn:\n",
    "from sklearn import linear_model\n",
    "reg = linear_model.LinearRegression()\n",
    "reg.fit (np.array(x['valores']).reshape(-1,1), np.array(y['valores']).reshape(-1, 1))\n",
    "print(\"Resultados com scikit-learn:\")\n",
    "print(\"a =\", reg.coef_[0][0])\n",
    "print(\"b =\", reg.intercept_[0])"
   ]
  },
  {
   "cell_type": "markdown",
   "metadata": {},
   "source": [
    "<h3><b>\n",
    "1.2 Validação do modelo\n",
    "</b></h3>"
   ]
  },
  {
   "cell_type": "markdown",
   "metadata": {},
   "source": [
    "Para visualização do conjunto de dados, da regressão e dos erros a Figura `\\ref{fig:regressao01}` foi gerada utilizando o código abaixo:"
   ]
  },
  {
   "cell_type": "code",
   "execution_count": 5,
   "metadata": {},
   "outputs": [
    {
     "data": {
      "application/vnd.plotly.v1+json": {
       "data": [
        {
         "name": "módulo do erro",
         "type": "bar",
         "uid": "108c2cb9-a1de-11e8-84a2-d05349f0ce53",
         "x": [
          194.5,
          194.3,
          197.9,
          198.4,
          199.4,
          199.9,
          200.9,
          201.1,
          201.4,
          201.3,
          203.6,
          204.6,
          209.5,
          208.6,
          210.7,
          211.9,
          212.2
         ],
         "y": [
          0.15115517604427708,
          0.25573365620120825,
          0.016678986623496428,
          0.008125187015807,
          0.051017587800451736,
          0.11246378819276259,
          0.09535618897740505,
          0.09993466913432414,
          0.22680238936971975,
          0.1845131492912664,
          0.2571656710959189,
          0.6499419281194392,
          0.007769164274709084,
          0.25162767501911176,
          0.06970171666684877,
          0.14282740239157832,
          0.1659596821561955
         ],
         "yaxis": "y3"
        },
        {
         "mode": "lines",
         "name": "modelo linear",
         "type": "scatter",
         "uid": "108c2cba-a1de-11e8-84a2-d05349f0ce53",
         "x": [
          194.3,
          194.4808080808081,
          194.66161616161617,
          194.84242424242424,
          195.02323232323232,
          195.20404040404043,
          195.3848484848485,
          195.56565656565658,
          195.74646464646466,
          195.92727272727274,
          196.1080808080808,
          196.2888888888889,
          196.46969696969697,
          196.65050505050505,
          196.83131313131315,
          197.01212121212123,
          197.1929292929293,
          197.37373737373738,
          197.55454545454546,
          197.73535353535354,
          197.91616161616162,
          198.0969696969697,
          198.27777777777777,
          198.45858585858588,
          198.63939393939395,
          198.82020202020203,
          199.0010101010101,
          199.1818181818182,
          199.36262626262626,
          199.54343434343434,
          199.72424242424242,
          199.9050505050505,
          200.0858585858586,
          200.26666666666668,
          200.44747474747476,
          200.62828282828283,
          200.8090909090909,
          200.989898989899,
          201.17070707070707,
          201.35151515151514,
          201.53232323232322,
          201.71313131313133,
          201.8939393939394,
          202.07474747474748,
          202.25555555555556,
          202.43636363636364,
          202.61717171717171,
          202.7979797979798,
          202.97878787878787,
          203.15959595959595,
          203.34040404040405,
          203.52121212121213,
          203.7020202020202,
          203.88282828282829,
          204.06363636363636,
          204.24444444444444,
          204.42525252525252,
          204.6060606060606,
          204.78686868686867,
          204.96767676767678,
          205.14848484848486,
          205.32929292929293,
          205.510101010101,
          205.6909090909091,
          205.87171717171717,
          206.05252525252524,
          206.23333333333332,
          206.4141414141414,
          206.5949494949495,
          206.77575757575758,
          206.95656565656566,
          207.13737373737374,
          207.3181818181818,
          207.4989898989899,
          207.67979797979797,
          207.86060606060605,
          208.04141414141412,
          208.22222222222223,
          208.4030303030303,
          208.58383838383838,
          208.76464646464646,
          208.94545454545454,
          209.12626262626262,
          209.3070707070707,
          209.48787878787877,
          209.66868686868685,
          209.84949494949495,
          210.03030303030303,
          210.2111111111111,
          210.3919191919192,
          210.57272727272726,
          210.75353535353534,
          210.93434343434342,
          211.1151515151515,
          211.29595959595957,
          211.47676767676768,
          211.65757575757576,
          211.83838383838383,
          212.0191919191919,
          212.2
         ],
         "y": [
          20.53426634379879,
          20.628809515253792,
          20.723352686708793,
          20.817895858163794,
          20.912439029618795,
          21.00698220107381,
          21.101525372528798,
          21.1960685439838,
          21.2906117154388,
          21.3851548868938,
          21.479698058348802,
          21.57424122980379,
          21.66878440125879,
          21.76332757271379,
          21.857870744168807,
          21.952413915623808,
          22.046957087078795,
          22.141500258533796,
          22.236043429988797,
          22.330586601443798,
          22.4251297728988,
          22.519672944353786,
          22.614216115808787,
          22.708759287263803,
          22.803302458718804,
          22.897845630173805,
          22.992388801628806,
          23.086931973083793,
          23.181475144538794,
          23.276018315993795,
          23.370561487448796,
          23.465104658903797,
          23.5596478303588,
          23.6541910018138,
          23.7487341732688,
          23.843277344723802,
          23.937820516178803,
          24.03236368763379,
          24.12690685908879,
          24.221450030543792,
          24.315993201998793,
          24.41053637345381,
          24.50507954490881,
          24.599622716363797,
          24.694165887818798,
          24.7887090592738,
          24.8832522307288,
          24.9777954021838,
          25.07233857363879,
          25.16688174509379,
          25.261424916548805,
          25.355968088003806,
          25.450511259458807,
          25.545054430913794,
          25.639597602368795,
          25.734140773823796,
          25.828683945278797,
          25.9232271167338,
          26.017770288188785,
          26.1123134596438,
          26.206856631098802,
          26.301399802553803,
          26.395942974008804,
          26.490486145463805,
          26.585029316918792,
          26.679572488373793,
          26.774115659828794,
          26.868658831283796,
          26.96320200273881,
          27.057745174193798,
          27.1522883456488,
          27.2468315171038,
          27.3413746885588,
          27.435917860013802,
          27.53046103146879,
          27.62500420292379,
          27.71954737437879,
          27.814090545833807,
          27.908633717288808,
          28.00317688874381,
          28.097720060198796,
          28.192263231653797,
          28.2868064031088,
          28.3813495745638,
          28.4758927460188,
          28.570435917473787,
          28.664979088928803,
          28.759522260383804,
          28.854065431838805,
          28.948608603293806,
          29.043151774748793,
          29.137694946203794,
          29.232238117658795,
          29.326781289113796,
          29.421324460568798,
          29.5158676320238,
          29.6104108034788,
          29.7049539749338,
          29.799497146388802,
          29.894040317843803
         ],
         "yaxis": "y2"
        },
        {
         "mode": "markers",
         "name": "dataset",
         "type": "scatter",
         "uid": "108c2cbb-a1de-11e8-84a2-d05349f0ce53",
         "x": [
          194.5,
          194.3,
          197.9,
          198.4,
          199.4,
          199.9,
          200.9,
          201.1,
          201.4,
          201.3,
          203.6,
          204.6,
          209.5,
          208.6,
          210.7,
          211.9,
          212.2
         ],
         "y": [
          20.79,
          20.79,
          22.4,
          22.67,
          23.15,
          23.35,
          23.89,
          23.99,
          24.02,
          24.01,
          25.14,
          26.57,
          28.49,
          27.76,
          29.04,
          29.88,
          30.06
         ]
        }
       ],
       "layout": {
        "legend": {
         "orientation": "h",
         "y": -0.05
        },
        "title": "Gráfico do dataset, modelo linear e respectivo erro",
        "xaxis": {
         "title": "Temperatura de ebulição (°F)",
         "titlefont": {
          "color": "#7f7f7f",
          "family": "Courier New, monospace",
          "size": 18
         }
        },
        "yaxis": {
         "range": [
          19.863,
          30.987
         ],
         "title": "Pressão (polegadas de Hg)",
         "titlefont": {
          "color": "#7f7f7f",
          "family": "Courier New, monospace",
          "size": 18
         }
        },
        "yaxis2": {
         "overlaying": "y",
         "range": [
          19.863,
          30.987
         ],
         "side": "left",
         "visible": false
        },
        "yaxis3": {
         "anchor": "x",
         "overlaying": "y",
         "side": "right",
         "title": "Módulo do erro",
         "titlefont": {
          "color": "#7f7f7f",
          "family": "Courier New, monospace",
          "size": 18
         }
        }
       }
      },
      "text/html": [
       "<div id=\"194abf53-acf0-49eb-914e-0fed84632778\" style=\"height: 525px; width: 100%;\" class=\"plotly-graph-div\"></div><script type=\"text/javascript\">require([\"plotly\"], function(Plotly) { window.PLOTLYENV=window.PLOTLYENV || {};window.PLOTLYENV.BASE_URL=\"https://plot.ly\";\n",
       "        Plotly.plot(\n",
       "            '194abf53-acf0-49eb-914e-0fed84632778',\n",
       "            [{\"name\": \"m\\u00f3dulo do erro\", \"x\": [194.5, 194.3, 197.9, 198.4, 199.4, 199.9, 200.9, 201.1, 201.4, 201.3, 203.6, 204.6, 209.5, 208.6, 210.7, 211.9, 212.2], \"y\": [0.15115517604427708, 0.25573365620120825, 0.016678986623496428, 0.008125187015807, 0.051017587800451736, 0.11246378819276259, 0.09535618897740505, 0.09993466913432414, 0.22680238936971975, 0.1845131492912664, 0.2571656710959189, 0.6499419281194392, 0.007769164274709084, 0.25162767501911176, 0.06970171666684877, 0.14282740239157832, 0.1659596821561955], \"yaxis\": \"y3\", \"type\": \"bar\", \"uid\": \"108c2cb9-a1de-11e8-84a2-d05349f0ce53\"}, {\"mode\": \"lines\", \"name\": \"modelo linear\", \"x\": [194.3, 194.4808080808081, 194.66161616161617, 194.84242424242424, 195.02323232323232, 195.20404040404043, 195.3848484848485, 195.56565656565658, 195.74646464646466, 195.92727272727274, 196.1080808080808, 196.2888888888889, 196.46969696969697, 196.65050505050505, 196.83131313131315, 197.01212121212123, 197.1929292929293, 197.37373737373738, 197.55454545454546, 197.73535353535354, 197.91616161616162, 198.0969696969697, 198.27777777777777, 198.45858585858588, 198.63939393939395, 198.82020202020203, 199.0010101010101, 199.1818181818182, 199.36262626262626, 199.54343434343434, 199.72424242424242, 199.9050505050505, 200.0858585858586, 200.26666666666668, 200.44747474747476, 200.62828282828283, 200.8090909090909, 200.989898989899, 201.17070707070707, 201.35151515151514, 201.53232323232322, 201.71313131313133, 201.8939393939394, 202.07474747474748, 202.25555555555556, 202.43636363636364, 202.61717171717171, 202.7979797979798, 202.97878787878787, 203.15959595959595, 203.34040404040405, 203.52121212121213, 203.7020202020202, 203.88282828282829, 204.06363636363636, 204.24444444444444, 204.42525252525252, 204.6060606060606, 204.78686868686867, 204.96767676767678, 205.14848484848486, 205.32929292929293, 205.510101010101, 205.6909090909091, 205.87171717171717, 206.05252525252524, 206.23333333333332, 206.4141414141414, 206.5949494949495, 206.77575757575758, 206.95656565656566, 207.13737373737374, 207.3181818181818, 207.4989898989899, 207.67979797979797, 207.86060606060605, 208.04141414141412, 208.22222222222223, 208.4030303030303, 208.58383838383838, 208.76464646464646, 208.94545454545454, 209.12626262626262, 209.3070707070707, 209.48787878787877, 209.66868686868685, 209.84949494949495, 210.03030303030303, 210.2111111111111, 210.3919191919192, 210.57272727272726, 210.75353535353534, 210.93434343434342, 211.1151515151515, 211.29595959595957, 211.47676767676768, 211.65757575757576, 211.83838383838383, 212.0191919191919, 212.2], \"y\": [20.53426634379879, 20.628809515253792, 20.723352686708793, 20.817895858163794, 20.912439029618795, 21.00698220107381, 21.101525372528798, 21.1960685439838, 21.2906117154388, 21.3851548868938, 21.479698058348802, 21.57424122980379, 21.66878440125879, 21.76332757271379, 21.857870744168807, 21.952413915623808, 22.046957087078795, 22.141500258533796, 22.236043429988797, 22.330586601443798, 22.4251297728988, 22.519672944353786, 22.614216115808787, 22.708759287263803, 22.803302458718804, 22.897845630173805, 22.992388801628806, 23.086931973083793, 23.181475144538794, 23.276018315993795, 23.370561487448796, 23.465104658903797, 23.5596478303588, 23.6541910018138, 23.7487341732688, 23.843277344723802, 23.937820516178803, 24.03236368763379, 24.12690685908879, 24.221450030543792, 24.315993201998793, 24.41053637345381, 24.50507954490881, 24.599622716363797, 24.694165887818798, 24.7887090592738, 24.8832522307288, 24.9777954021838, 25.07233857363879, 25.16688174509379, 25.261424916548805, 25.355968088003806, 25.450511259458807, 25.545054430913794, 25.639597602368795, 25.734140773823796, 25.828683945278797, 25.9232271167338, 26.017770288188785, 26.1123134596438, 26.206856631098802, 26.301399802553803, 26.395942974008804, 26.490486145463805, 26.585029316918792, 26.679572488373793, 26.774115659828794, 26.868658831283796, 26.96320200273881, 27.057745174193798, 27.1522883456488, 27.2468315171038, 27.3413746885588, 27.435917860013802, 27.53046103146879, 27.62500420292379, 27.71954737437879, 27.814090545833807, 27.908633717288808, 28.00317688874381, 28.097720060198796, 28.192263231653797, 28.2868064031088, 28.3813495745638, 28.4758927460188, 28.570435917473787, 28.664979088928803, 28.759522260383804, 28.854065431838805, 28.948608603293806, 29.043151774748793, 29.137694946203794, 29.232238117658795, 29.326781289113796, 29.421324460568798, 29.5158676320238, 29.6104108034788, 29.7049539749338, 29.799497146388802, 29.894040317843803], \"yaxis\": \"y2\", \"type\": \"scatter\", \"uid\": \"108c2cba-a1de-11e8-84a2-d05349f0ce53\"}, {\"mode\": \"markers\", \"name\": \"dataset\", \"x\": [194.5, 194.3, 197.9, 198.4, 199.4, 199.9, 200.9, 201.1, 201.4, 201.3, 203.6, 204.6, 209.5, 208.6, 210.7, 211.9, 212.2], \"y\": [20.79, 20.79, 22.4, 22.67, 23.15, 23.35, 23.89, 23.99, 24.02, 24.01, 25.14, 26.57, 28.49, 27.76, 29.04, 29.88, 30.06], \"type\": \"scatter\", \"uid\": \"108c2cbb-a1de-11e8-84a2-d05349f0ce53\"}],\n",
       "            {\"legend\": {\"orientation\": \"h\", \"y\": -0.05}, \"title\": \"Gr\\u00e1fico do dataset, modelo linear e respectivo erro\", \"xaxis\": {\"title\": \"Temperatura de ebuli\\u00e7\\u00e3o (\\u00b0F)\", \"titlefont\": {\"color\": \"#7f7f7f\", \"family\": \"Courier New, monospace\", \"size\": 18}}, \"yaxis\": {\"range\": [19.863, 30.987], \"title\": \"Press\\u00e3o (polegadas de Hg)\", \"titlefont\": {\"color\": \"#7f7f7f\", \"family\": \"Courier New, monospace\", \"size\": 18}}, \"yaxis2\": {\"overlaying\": \"y\", \"range\": [19.863, 30.987], \"side\": \"left\", \"visible\": false}, \"yaxis3\": {\"anchor\": \"x\", \"overlaying\": \"y\", \"side\": \"right\", \"title\": \"M\\u00f3dulo do erro\", \"titlefont\": {\"color\": \"#7f7f7f\", \"family\": \"Courier New, monospace\", \"size\": 18}}},\n",
       "            {\"showLink\": true, \"linkText\": \"Export to plot.ly\"}\n",
       "        ).then(function () {return Plotly.addFrames('194abf53-acf0-49eb-914e-0fed84632778',{});}).then(function(){Plotly.animate('194abf53-acf0-49eb-914e-0fed84632778');})\n",
       "        });</script>"
      ],
      "text/vnd.plotly.v1+html": [
       "<div id=\"194abf53-acf0-49eb-914e-0fed84632778\" style=\"height: 525px; width: 100%;\" class=\"plotly-graph-div\"></div><script type=\"text/javascript\">require([\"plotly\"], function(Plotly) { window.PLOTLYENV=window.PLOTLYENV || {};window.PLOTLYENV.BASE_URL=\"https://plot.ly\";\n",
       "        Plotly.plot(\n",
       "            '194abf53-acf0-49eb-914e-0fed84632778',\n",
       "            [{\"name\": \"m\\u00f3dulo do erro\", \"x\": [194.5, 194.3, 197.9, 198.4, 199.4, 199.9, 200.9, 201.1, 201.4, 201.3, 203.6, 204.6, 209.5, 208.6, 210.7, 211.9, 212.2], \"y\": [0.15115517604427708, 0.25573365620120825, 0.016678986623496428, 0.008125187015807, 0.051017587800451736, 0.11246378819276259, 0.09535618897740505, 0.09993466913432414, 0.22680238936971975, 0.1845131492912664, 0.2571656710959189, 0.6499419281194392, 0.007769164274709084, 0.25162767501911176, 0.06970171666684877, 0.14282740239157832, 0.1659596821561955], \"yaxis\": \"y3\", \"type\": \"bar\", \"uid\": \"108c2cb9-a1de-11e8-84a2-d05349f0ce53\"}, {\"mode\": \"lines\", \"name\": \"modelo linear\", \"x\": [194.3, 194.4808080808081, 194.66161616161617, 194.84242424242424, 195.02323232323232, 195.20404040404043, 195.3848484848485, 195.56565656565658, 195.74646464646466, 195.92727272727274, 196.1080808080808, 196.2888888888889, 196.46969696969697, 196.65050505050505, 196.83131313131315, 197.01212121212123, 197.1929292929293, 197.37373737373738, 197.55454545454546, 197.73535353535354, 197.91616161616162, 198.0969696969697, 198.27777777777777, 198.45858585858588, 198.63939393939395, 198.82020202020203, 199.0010101010101, 199.1818181818182, 199.36262626262626, 199.54343434343434, 199.72424242424242, 199.9050505050505, 200.0858585858586, 200.26666666666668, 200.44747474747476, 200.62828282828283, 200.8090909090909, 200.989898989899, 201.17070707070707, 201.35151515151514, 201.53232323232322, 201.71313131313133, 201.8939393939394, 202.07474747474748, 202.25555555555556, 202.43636363636364, 202.61717171717171, 202.7979797979798, 202.97878787878787, 203.15959595959595, 203.34040404040405, 203.52121212121213, 203.7020202020202, 203.88282828282829, 204.06363636363636, 204.24444444444444, 204.42525252525252, 204.6060606060606, 204.78686868686867, 204.96767676767678, 205.14848484848486, 205.32929292929293, 205.510101010101, 205.6909090909091, 205.87171717171717, 206.05252525252524, 206.23333333333332, 206.4141414141414, 206.5949494949495, 206.77575757575758, 206.95656565656566, 207.13737373737374, 207.3181818181818, 207.4989898989899, 207.67979797979797, 207.86060606060605, 208.04141414141412, 208.22222222222223, 208.4030303030303, 208.58383838383838, 208.76464646464646, 208.94545454545454, 209.12626262626262, 209.3070707070707, 209.48787878787877, 209.66868686868685, 209.84949494949495, 210.03030303030303, 210.2111111111111, 210.3919191919192, 210.57272727272726, 210.75353535353534, 210.93434343434342, 211.1151515151515, 211.29595959595957, 211.47676767676768, 211.65757575757576, 211.83838383838383, 212.0191919191919, 212.2], \"y\": [20.53426634379879, 20.628809515253792, 20.723352686708793, 20.817895858163794, 20.912439029618795, 21.00698220107381, 21.101525372528798, 21.1960685439838, 21.2906117154388, 21.3851548868938, 21.479698058348802, 21.57424122980379, 21.66878440125879, 21.76332757271379, 21.857870744168807, 21.952413915623808, 22.046957087078795, 22.141500258533796, 22.236043429988797, 22.330586601443798, 22.4251297728988, 22.519672944353786, 22.614216115808787, 22.708759287263803, 22.803302458718804, 22.897845630173805, 22.992388801628806, 23.086931973083793, 23.181475144538794, 23.276018315993795, 23.370561487448796, 23.465104658903797, 23.5596478303588, 23.6541910018138, 23.7487341732688, 23.843277344723802, 23.937820516178803, 24.03236368763379, 24.12690685908879, 24.221450030543792, 24.315993201998793, 24.41053637345381, 24.50507954490881, 24.599622716363797, 24.694165887818798, 24.7887090592738, 24.8832522307288, 24.9777954021838, 25.07233857363879, 25.16688174509379, 25.261424916548805, 25.355968088003806, 25.450511259458807, 25.545054430913794, 25.639597602368795, 25.734140773823796, 25.828683945278797, 25.9232271167338, 26.017770288188785, 26.1123134596438, 26.206856631098802, 26.301399802553803, 26.395942974008804, 26.490486145463805, 26.585029316918792, 26.679572488373793, 26.774115659828794, 26.868658831283796, 26.96320200273881, 27.057745174193798, 27.1522883456488, 27.2468315171038, 27.3413746885588, 27.435917860013802, 27.53046103146879, 27.62500420292379, 27.71954737437879, 27.814090545833807, 27.908633717288808, 28.00317688874381, 28.097720060198796, 28.192263231653797, 28.2868064031088, 28.3813495745638, 28.4758927460188, 28.570435917473787, 28.664979088928803, 28.759522260383804, 28.854065431838805, 28.948608603293806, 29.043151774748793, 29.137694946203794, 29.232238117658795, 29.326781289113796, 29.421324460568798, 29.5158676320238, 29.6104108034788, 29.7049539749338, 29.799497146388802, 29.894040317843803], \"yaxis\": \"y2\", \"type\": \"scatter\", \"uid\": \"108c2cba-a1de-11e8-84a2-d05349f0ce53\"}, {\"mode\": \"markers\", \"name\": \"dataset\", \"x\": [194.5, 194.3, 197.9, 198.4, 199.4, 199.9, 200.9, 201.1, 201.4, 201.3, 203.6, 204.6, 209.5, 208.6, 210.7, 211.9, 212.2], \"y\": [20.79, 20.79, 22.4, 22.67, 23.15, 23.35, 23.89, 23.99, 24.02, 24.01, 25.14, 26.57, 28.49, 27.76, 29.04, 29.88, 30.06], \"type\": \"scatter\", \"uid\": \"108c2cbb-a1de-11e8-84a2-d05349f0ce53\"}],\n",
       "            {\"legend\": {\"orientation\": \"h\", \"y\": -0.05}, \"title\": \"Gr\\u00e1fico do dataset, modelo linear e respectivo erro\", \"xaxis\": {\"title\": \"Temperatura de ebuli\\u00e7\\u00e3o (\\u00b0F)\", \"titlefont\": {\"color\": \"#7f7f7f\", \"family\": \"Courier New, monospace\", \"size\": 18}}, \"yaxis\": {\"range\": [19.863, 30.987], \"title\": \"Press\\u00e3o (polegadas de Hg)\", \"titlefont\": {\"color\": \"#7f7f7f\", \"family\": \"Courier New, monospace\", \"size\": 18}}, \"yaxis2\": {\"overlaying\": \"y\", \"range\": [19.863, 30.987], \"side\": \"left\", \"visible\": false}, \"yaxis3\": {\"anchor\": \"x\", \"overlaying\": \"y\", \"side\": \"right\", \"title\": \"M\\u00f3dulo do erro\", \"titlefont\": {\"color\": \"#7f7f7f\", \"family\": \"Courier New, monospace\", \"size\": 18}}},\n",
       "            {\"showLink\": true, \"linkText\": \"Export to plot.ly\"}\n",
       "        ).then(function () {return Plotly.addFrames('194abf53-acf0-49eb-914e-0fed84632778',{});}).then(function(){Plotly.animate('194abf53-acf0-49eb-914e-0fed84632778');})\n",
       "        });</script>"
      ]
     },
     "metadata": {},
     "output_type": "display_data"
    }
   ],
   "source": [
    "# Cálculo do erro para cada medida:\n",
    "def errorVector(x,y,w):\n",
    "    y_predicted = [w[0]*x + w[1] for x in x['valores']]\n",
    "    e_vec = np.subtract(y['valores'], y_predicted)\n",
    "    return e_vec\n",
    "    \n",
    "    \n",
    "def plotRegression(x, y, w):\n",
    "    # Gráfico da regressão linear\n",
    "    x_pc = np.linspace(min(x['valores']), max(x['valores']), 100) # valores de x para traçar a curva pseudo-contínua\n",
    "\n",
    "    # valores de y para o modelo linear\n",
    "    y_regression = [w[0]*x + w[1] for x in x_pc] \n",
    "    e_vec = errorVector(x,y,w)\n",
    "\n",
    "    # Plotagem do gráfico\n",
    "    traceData = go.Scatter(\n",
    "        x = x['valores'], \n",
    "        y = y['valores'], \n",
    "        mode='markers',\n",
    "        name='dataset'\n",
    "    )\n",
    "    \n",
    "    traceRegression = go.Scatter(\n",
    "        x = x_pc,\n",
    "        y = y_regression,\n",
    "        mode='lines',\n",
    "        name='modelo linear',\n",
    "        yaxis = 'y2'\n",
    "    )\n",
    "\n",
    "    traceError = go.Bar(\n",
    "        x = x['valores'],\n",
    "        y = np.absolute(e_vec),\n",
    "        name = \"módulo do erro\",\n",
    "        yaxis = 'y3'\n",
    "    )\n",
    "\n",
    "    data = [traceError, traceRegression, traceData]\n",
    "\n",
    "    delta = max(y['valores']) - min(y['valores']) # delta y\n",
    "    prct = 0.1 # porcentagem de gap para cima  para baixo\n",
    "    y_range = [min(y['valores'])-prct*delta, max(y['valores'])+prct*delta]\n",
    "\n",
    "    titlefont=dict(family='Courier New, monospace', size=18, color='#7f7f7f')\n",
    "    layoutRegression = go.Layout(\n",
    "        title='Gráfico do dataset, modelo linear e respectivo erro',\n",
    "        legend=dict(orientation=\"h\", y=-.05),\n",
    "        xaxis=dict(title = x['nome'], titlefont=titlefont),\n",
    "        yaxis=dict(\n",
    "            title = y['nome'],\n",
    "            titlefont = titlefont,\n",
    "            range = y_range\n",
    "        ),\n",
    "        yaxis2=dict(\n",
    "            visible = False,\n",
    "            range = y_range,\n",
    "            overlaying='y',\n",
    "            side='left'\n",
    "        ),\n",
    "        yaxis3=dict(\n",
    "            title='Módulo do erro',\n",
    "            titlefont=titlefont,\n",
    "            anchor='x',\n",
    "            overlaying='y',\n",
    "            side='right'\n",
    "        )\n",
    "    )\n",
    "    fig = go.Figure(data=data, layout=layoutRegression)\n",
    "    plt.iplot(fig)\n",
    "    \n",
    "plotRegression(x, y, w)"
   ]
  },
  {
   "cell_type": "markdown",
   "metadata": {},
   "source": [
    "O modelo parece se adequar aos dados, apenas no amostra próxima a 205 °F podemos ver um erro discrepante, esse será discutido quando analisarmos adiante a presença de outliers."
   ]
  },
  {
   "cell_type": "markdown",
   "metadata": {},
   "source": [
    "A variância dos resíduos, ou erros, foi estimada utilizando a fórmula abaixo `\\cite{wikipedia?}`:\n",
    "\n",
    "$$Var(e)=\\frac{1}{n-1}\\sum_{i=1}^{n} (e_i-\\bar{e})^2$$\n",
    "\n",
    "Onde $\\bar{e}$ representa a média dos erros e $e_i$ o erro da $i$-ésima amostra."
   ]
  },
  {
   "cell_type": "code",
   "execution_count": 6,
   "metadata": {},
   "outputs": [
    {
     "name": "stdout",
     "output_type": "stream",
     "text": [
      "Variância dos resíduos: 0.050821438352653715\n"
     ]
    }
   ],
   "source": [
    "def variance(x_vec):\n",
    "    x_mean = np.mean(x_vec)\n",
    "    var = (1/(len(x_vec)-1))*sum([(x - x_mean)**2 for x in x_vec])\n",
    "    return var\n",
    "\n",
    "e_vec = errorVector(x,y,w)\n",
    "print(\"Variância dos resíduos: {}\".format(variance(e_vec)))"
   ]
  },
  {
   "cell_type": "markdown",
   "metadata": {},
   "source": [
    "Posteriormente, o Coeficiente de Determinação, ou $R^2$, foi calculado utilizando a fórmula `\\cite{[Tutorial] Regressão Polinomial no MatlabOctave.pdf}`:\n",
    "\n",
    "$$R^2=1-\\frac{\\sum_{i=1}^{n} (y_i-\\hat{y}_i)^2}{\\sum_{i=1}^{n} (y_i-\\bar{y})^2}$$\n",
    "\n",
    "Onde $y_i$ é o valor da pressão para cada amostra, $\\hat{y}_i$ é a pressão predita pelo modelo linear e $\\bar{y}$ é a média dos valores de pressão do conjunto de dados.\n",
    "\n",
    "O código abaixo foi utilizado para efetuar o cálculo de $R^2$, gerar o histograma (Figura `\\ref{fig:histogram01}`) e o Boxplot (Figura `\\ref{fig:boxplot01}`) dos resíduos:"
   ]
  },
  {
   "cell_type": "code",
   "execution_count": 7,
   "metadata": {
    "scrolled": false
   },
   "outputs": [
    {
     "name": "stdout",
     "output_type": "stream",
     "text": [
      "R2 = 0.9944281526462319\n"
     ]
    },
    {
     "data": {
      "application/vnd.plotly.v1+json": {
       "data": [
        {
         "histnorm": "probability density",
         "type": "histogram",
         "uid": "1159c02e-a1de-11e8-84a2-d05349f0ce53",
         "x": [
          0.15115517604427708,
          0.25573365620120825,
          -0.016678986623496428,
          -0.008125187015807,
          -0.051017587800451736,
          -0.11246378819276259,
          -0.09535618897740505,
          -0.09993466913432414,
          -0.22680238936971975,
          -0.1845131492912664,
          -0.2571656710959189,
          0.6499419281194392,
          0.007769164274709084,
          -0.25162767501911176,
          -0.06970171666684877,
          0.14282740239157832,
          0.1659596821561955
         ]
        }
       ],
       "layout": {
        "title": "Histograma dos resíduos",
        "xaxis": {
         "title": "Valor do erro",
         "titlefont": {
          "color": "#7f7f7f",
          "family": "Courier New, monospace",
          "size": 18
         }
        },
        "yaxis": {
         "title": "Densidade de probabilidade",
         "titlefont": {
          "color": "#7f7f7f",
          "family": "Courier New, monospace",
          "size": 18
         }
        }
       }
      },
      "text/html": [
       "<div id=\"9c723de0-ecad-4548-b142-6e366698c50a\" style=\"height: 525px; width: 100%;\" class=\"plotly-graph-div\"></div><script type=\"text/javascript\">require([\"plotly\"], function(Plotly) { window.PLOTLYENV=window.PLOTLYENV || {};window.PLOTLYENV.BASE_URL=\"https://plot.ly\";\n",
       "        Plotly.plot(\n",
       "            '9c723de0-ecad-4548-b142-6e366698c50a',\n",
       "            [{\"histnorm\": \"probability density\", \"x\": [0.15115517604427708, 0.25573365620120825, -0.016678986623496428, -0.008125187015807, -0.051017587800451736, -0.11246378819276259, -0.09535618897740505, -0.09993466913432414, -0.22680238936971975, -0.1845131492912664, -0.2571656710959189, 0.6499419281194392, 0.007769164274709084, -0.25162767501911176, -0.06970171666684877, 0.14282740239157832, 0.1659596821561955], \"type\": \"histogram\", \"uid\": \"1159c02e-a1de-11e8-84a2-d05349f0ce53\"}],\n",
       "            {\"title\": \"Histograma dos res\\u00edduos\", \"xaxis\": {\"title\": \"Valor do erro\", \"titlefont\": {\"color\": \"#7f7f7f\", \"family\": \"Courier New, monospace\", \"size\": 18}}, \"yaxis\": {\"title\": \"Densidade de probabilidade\", \"titlefont\": {\"color\": \"#7f7f7f\", \"family\": \"Courier New, monospace\", \"size\": 18}}},\n",
       "            {\"showLink\": true, \"linkText\": \"Export to plot.ly\"}\n",
       "        ).then(function () {return Plotly.addFrames('9c723de0-ecad-4548-b142-6e366698c50a',{});}).then(function(){Plotly.animate('9c723de0-ecad-4548-b142-6e366698c50a');})\n",
       "        });</script>"
      ],
      "text/vnd.plotly.v1+html": [
       "<div id=\"9c723de0-ecad-4548-b142-6e366698c50a\" style=\"height: 525px; width: 100%;\" class=\"plotly-graph-div\"></div><script type=\"text/javascript\">require([\"plotly\"], function(Plotly) { window.PLOTLYENV=window.PLOTLYENV || {};window.PLOTLYENV.BASE_URL=\"https://plot.ly\";\n",
       "        Plotly.plot(\n",
       "            '9c723de0-ecad-4548-b142-6e366698c50a',\n",
       "            [{\"histnorm\": \"probability density\", \"x\": [0.15115517604427708, 0.25573365620120825, -0.016678986623496428, -0.008125187015807, -0.051017587800451736, -0.11246378819276259, -0.09535618897740505, -0.09993466913432414, -0.22680238936971975, -0.1845131492912664, -0.2571656710959189, 0.6499419281194392, 0.007769164274709084, -0.25162767501911176, -0.06970171666684877, 0.14282740239157832, 0.1659596821561955], \"type\": \"histogram\", \"uid\": \"1159c02e-a1de-11e8-84a2-d05349f0ce53\"}],\n",
       "            {\"title\": \"Histograma dos res\\u00edduos\", \"xaxis\": {\"title\": \"Valor do erro\", \"titlefont\": {\"color\": \"#7f7f7f\", \"family\": \"Courier New, monospace\", \"size\": 18}}, \"yaxis\": {\"title\": \"Densidade de probabilidade\", \"titlefont\": {\"color\": \"#7f7f7f\", \"family\": \"Courier New, monospace\", \"size\": 18}}},\n",
       "            {\"showLink\": true, \"linkText\": \"Export to plot.ly\"}\n",
       "        ).then(function () {return Plotly.addFrames('9c723de0-ecad-4548-b142-6e366698c50a',{});}).then(function(){Plotly.animate('9c723de0-ecad-4548-b142-6e366698c50a');})\n",
       "        });</script>"
      ]
     },
     "metadata": {},
     "output_type": "display_data"
    },
    {
     "data": {
      "application/vnd.plotly.v1+json": {
       "data": [
        {
         "boxmean": "sd",
         "boxpoints": "all",
         "jitter": 0.3,
         "pointpos": -1.8,
         "type": "box",
         "uid": "1159c02f-a1de-11e8-84a2-d05349f0ce53",
         "y": [
          0.15115517604427708,
          0.25573365620120825,
          -0.016678986623496428,
          -0.008125187015807,
          -0.051017587800451736,
          -0.11246378819276259,
          -0.09535618897740505,
          -0.09993466913432414,
          -0.22680238936971975,
          -0.1845131492912664,
          -0.2571656710959189,
          0.6499419281194392,
          0.007769164274709084,
          -0.25162767501911176,
          -0.06970171666684877,
          0.14282740239157832,
          0.1659596821561955
         ]
        }
       ],
       "layout": {
        "title": "Boxplot dos resíduos"
       }
      },
      "text/html": [
       "<div id=\"e4249c8b-1466-4d54-aab5-e2ec7b96f6f4\" style=\"height: 525px; width: 100%;\" class=\"plotly-graph-div\"></div><script type=\"text/javascript\">require([\"plotly\"], function(Plotly) { window.PLOTLYENV=window.PLOTLYENV || {};window.PLOTLYENV.BASE_URL=\"https://plot.ly\";\n",
       "        Plotly.plot(\n",
       "            'e4249c8b-1466-4d54-aab5-e2ec7b96f6f4',\n",
       "            [{\"boxmean\": \"sd\", \"boxpoints\": \"all\", \"jitter\": 0.3, \"pointpos\": -1.8, \"y\": [0.15115517604427708, 0.25573365620120825, -0.016678986623496428, -0.008125187015807, -0.051017587800451736, -0.11246378819276259, -0.09535618897740505, -0.09993466913432414, -0.22680238936971975, -0.1845131492912664, -0.2571656710959189, 0.6499419281194392, 0.007769164274709084, -0.25162767501911176, -0.06970171666684877, 0.14282740239157832, 0.1659596821561955], \"type\": \"box\", \"uid\": \"1159c02f-a1de-11e8-84a2-d05349f0ce53\"}],\n",
       "            {\"title\": \"Boxplot dos res\\u00edduos\"},\n",
       "            {\"showLink\": true, \"linkText\": \"Export to plot.ly\"}\n",
       "        ).then(function () {return Plotly.addFrames('e4249c8b-1466-4d54-aab5-e2ec7b96f6f4',{});}).then(function(){Plotly.animate('e4249c8b-1466-4d54-aab5-e2ec7b96f6f4');})\n",
       "        });</script>"
      ],
      "text/vnd.plotly.v1+html": [
       "<div id=\"e4249c8b-1466-4d54-aab5-e2ec7b96f6f4\" style=\"height: 525px; width: 100%;\" class=\"plotly-graph-div\"></div><script type=\"text/javascript\">require([\"plotly\"], function(Plotly) { window.PLOTLYENV=window.PLOTLYENV || {};window.PLOTLYENV.BASE_URL=\"https://plot.ly\";\n",
       "        Plotly.plot(\n",
       "            'e4249c8b-1466-4d54-aab5-e2ec7b96f6f4',\n",
       "            [{\"boxmean\": \"sd\", \"boxpoints\": \"all\", \"jitter\": 0.3, \"pointpos\": -1.8, \"y\": [0.15115517604427708, 0.25573365620120825, -0.016678986623496428, -0.008125187015807, -0.051017587800451736, -0.11246378819276259, -0.09535618897740505, -0.09993466913432414, -0.22680238936971975, -0.1845131492912664, -0.2571656710959189, 0.6499419281194392, 0.007769164274709084, -0.25162767501911176, -0.06970171666684877, 0.14282740239157832, 0.1659596821561955], \"type\": \"box\", \"uid\": \"1159c02f-a1de-11e8-84a2-d05349f0ce53\"}],\n",
       "            {\"title\": \"Boxplot dos res\\u00edduos\"},\n",
       "            {\"showLink\": true, \"linkText\": \"Export to plot.ly\"}\n",
       "        ).then(function () {return Plotly.addFrames('e4249c8b-1466-4d54-aab5-e2ec7b96f6f4',{});}).then(function(){Plotly.animate('e4249c8b-1466-4d54-aab5-e2ec7b96f6f4');})\n",
       "        });</script>"
      ]
     },
     "metadata": {},
     "output_type": "display_data"
    }
   ],
   "source": [
    "# Função que calcula o R2\n",
    "def r2(y, e_vec):\n",
    "    y_mean = np.mean(y['valores'])\n",
    "        \n",
    "    SQ_e = np.dot(np.transpose(e_vec), e_vec)          # sum of squared errors\n",
    "    S_yy = sum([(y - y_mean)**2 for y in y['valores']]) # sum of errors for naive predictor\n",
    "\n",
    "    R2 = 1 - SQ_e/S_yy\n",
    "    return R2\n",
    "\n",
    "\n",
    "def plotHistogram(e_vec):\n",
    "    # Histograma dos resíduos\n",
    "    data = [go.Histogram(\n",
    "        x=e_vec,\n",
    "        histnorm=\"probability density\",\n",
    "        #xbins=dict(start=-1, end=1, size=0.1)\n",
    "    )]\n",
    "    \n",
    "    titlefont=dict(family='Courier New, monospace', size=18, color='#7f7f7f')\n",
    "    layoutHist = go.Layout(\n",
    "        title='Histograma dos resíduos',\n",
    "        xaxis=dict(title='Valor do erro', titlefont=titlefont),\n",
    "        yaxis=dict(title='Densidade de probabilidade', titlefont=titlefont)\n",
    "    )\n",
    "\n",
    "    fig = go.Figure(data=data, layout=layoutHist)\n",
    "    plt.iplot(fig)\n",
    "\n",
    "# Boxplot dos resíduos\n",
    "def plotBoxplot(e_vec):\n",
    "    data = [go.Box(\n",
    "        y= e_vec,\n",
    "        boxpoints='all',\n",
    "        boxmean='sd',\n",
    "        jitter=0.3,\n",
    "        pointpos=-1.8\n",
    "    )]\n",
    "    \n",
    "    layoutBoxplot = go.Layout(title=\"Boxplot dos resíduos\")\n",
    "\n",
    "    fig = go.Figure(data=data, layout=layoutBoxplot)\n",
    "    plt.iplot(fig)\n",
    "\n",
    "error_vec = errorVector(x,y,w) # vetor dos erros entre as medições e o modelo linear\n",
    "\n",
    "R2 = r2(y, error_vec)\n",
    "print(\"R2 = {}\".format(R2))\n",
    "\n",
    "plotHistogram(error_vec)\n",
    "plotBoxplot(error_vec)"
   ]
  },
  {
   "cell_type": "markdown",
   "metadata": {},
   "source": [
    "Como o valor de $R^2$ foi alto podemos dizer que o modelo aparenta se adequar bem às amostras. O histograma não aparenta, visualmente, seguir uma distribuição gaussiana, principalmente pela falta de simetria da distribuição. Um indício dessa falta de normalidade está contido no boxplot dos resíduos, que apresenta a existência de um outlier. Para ter mais rigor na análise da hipótese de normalidade dos resíduos foi aplicado o teste de Shapiro-Wilk de normalidade com 95% de confiança e 5% de significância:"
   ]
  },
  {
   "cell_type": "code",
   "execution_count": 8,
   "metadata": {},
   "outputs": [
    {
     "name": "stdout",
     "output_type": "stream",
     "text": [
      "P-value: 0.02394944056868553\n"
     ]
    }
   ],
   "source": [
    "from scipy import stats\n",
    "print(\"P-value: {}\".format(stats.shapiro(error_vec)[1]))"
   ]
  },
  {
   "cell_type": "markdown",
   "metadata": {},
   "source": [
    "Visto que o resultado do teste apresentou p-value inferior a 0,05 foi rejeitada a hipótese que a distribuição dos resíduos é normal `\\cite{refShapiro-Wilk}`, então, apesar do valor de $R^2$ ser alto uma das suposições do modelo linear não foi atendida."
   ]
  },
  {
   "cell_type": "markdown",
   "metadata": {},
   "source": [
    "Nos faltou analisar a presença de outliers. Nas Figuras `\\ref{fig:regressao01}` e  `\\ref{fig:boxplot01}` podemos ver que há uma amostra com erro discrepante, o outlier. O código abaixo foi utilizado para identifica-lo, apresentar suas coordenadas, valor do erro e distância da média em número de desvios padrões:"
   ]
  },
  {
   "cell_type": "code",
   "execution_count": 9,
   "metadata": {
    "scrolled": true
   },
   "outputs": [
    {
     "name": "stdout",
     "output_type": "stream",
     "text": [
      "Outlier:\n",
      "Ponto: (204.6, 26.57) \n",
      "Valor do erro: 0.6499419281194392 \n",
      "Distância: 2.8830427240926944 desvios-padrões\n"
     ]
    }
   ],
   "source": [
    "index = np.argmax(np.absolute(error_vec))  # índice do outlier\n",
    "erro_outlier = max(np.absolute(error_vec)) # valor do erro do outlier\n",
    "distancia = (erro_outlier - np.mean(error_vec)) / np.sqrt(variance(error_vec))\n",
    "\n",
    "print(\"Outlier:\\nPonto: ({}, {}) \\nValor do erro: {} \\nDistância: {} desvios-padrões\"\n",
    "      .format(x['valores'][index], y['valores'][index], erro_outlier, distancia))"
   ]
  },
  {
   "cell_type": "markdown",
   "metadata": {},
   "source": [
    "De forma a sintetizar os resultados a Tabela `\\ref{tab:resultados01}` foi elaborada."
   ]
  },
  {
   "cell_type": "code",
   "execution_count": 16,
   "metadata": {},
   "outputs": [
    {
     "data": {
      "text/html": [
       "<div>\n",
       "<style scoped>\n",
       "    .dataframe tbody tr th:only-of-type {\n",
       "        vertical-align: middle;\n",
       "    }\n",
       "\n",
       "    .dataframe tbody tr th {\n",
       "        vertical-align: top;\n",
       "    }\n",
       "\n",
       "    .dataframe thead th {\n",
       "        text-align: right;\n",
       "    }\n",
       "</style>\n",
       "<table border=\"1\" class=\"dataframe\">\n",
       "  <thead>\n",
       "    <tr style=\"text-align: right;\">\n",
       "      <th></th>\n",
       "      <th>Parâmetros da regressão</th>\n",
       "      <th>R²</th>\n",
       "      <th>Var(e)</th>\n",
       "      <th>SW P-value</th>\n",
       "    </tr>\n",
       "  </thead>\n",
       "  <tbody>\n",
       "    <tr>\n",
       "      <th>0</th>\n",
       "      <td>[0.5228924007846376, -81.0637271286563]</td>\n",
       "      <td>0.994428</td>\n",
       "      <td>0.050821</td>\n",
       "      <td>0.023949</td>\n",
       "    </tr>\n",
       "  </tbody>\n",
       "</table>\n",
       "</div>"
      ],
      "text/plain": [
       "                   Parâmetros da regressão        R²    Var(e)  SW P-value\n",
       "0  [0.5228924007846376, -81.0637271286563]  0.994428  0.050821    0.023949"
      ]
     },
     "execution_count": 16,
     "metadata": {},
     "output_type": "execute_result"
    }
   ],
   "source": [
    "import pandas as pd\n",
    "dfB = pd.DataFrame({\"Parâmetros da regressão\": [w],\n",
    "                    \"R²\": R2,\n",
    "                    \"Var(e)\": variance(error_vec),\n",
    "                    \"SW P-value\": stats.shapiro(error_vec)[1]\n",
    "                  })\n",
    "dfB"
   ]
  },
  {
   "cell_type": "markdown",
   "metadata": {},
   "source": [
    "Para analisar o efeito do outlier na regressão linear a amostra foi retirada e o mesmo estudo foi refeito."
   ]
  },
  {
   "cell_type": "code",
   "execution_count": 17,
   "metadata": {},
   "outputs": [],
   "source": [
    "# Criando função para fazer a análise completa da regressão linear\n",
    "def regressionAnalysis(x, y):\n",
    "    # x = {'valores': [data], 'nome': 'dimensão-dos-dados'}\n",
    "    # y = {'valores': [data], 'nome': 'dimensão-dos-dados'}\n",
    "            \n",
    "    w = ols(x,y) # Regressão linear\n",
    "    \n",
    "    error_vec = errorVector(x,y,w) # vetor dos erros\n",
    "    R2 = r2(y, error_vec)          # cálculo do R2\n",
    "    \n",
    "    plotRegression(x, y, w)  # gráfico da regressão linear\n",
    "    plotHistogram(error_vec) # histograma dos resíduos\n",
    "    plotBoxplot(error_vec)   # boxplot dos resíduos\n",
    "    \n",
    "    # resultados organizados num panda dataframe\n",
    "    return pd.DataFrame({\"Parâmetros da regressão\": [w],\n",
    "                         \"R²\": R2,\n",
    "                         \"Var(e)\": variance(error_vec),\n",
    "                         \"SW P-value\": stats.shapiro(error_vec)[1]\n",
    "                        })"
   ]
  },
  {
   "cell_type": "code",
   "execution_count": 18,
   "metadata": {},
   "outputs": [
    {
     "data": {
      "application/vnd.plotly.v1+json": {
       "data": [
        {
         "name": "módulo do erro",
         "type": "bar",
         "uid": "5808e090-a1de-11e8-84a2-d05349f0ce53",
         "x": [
          194.5,
          194.3,
          197.9,
          198.4,
          199.4,
          199.9,
          200.9,
          201.1,
          201.4,
          201.3,
          203.6,
          209.5,
          208.6,
          210.7,
          211.9,
          212.2
         ],
         "y": [
          0.17378587327140593,
          0.2779334390982555,
          0.013277254214763445,
          0.022908339647614184,
          0.017829489486693717,
          0.07819840405384326,
          0.05893623318814889,
          0.06308379901500061,
          0.18930514775530227,
          0.1472313648418755,
          0.2149283718507604,
          0.0627184362568336,
          0.1986175175222833,
          0.012166958704334263,
          0.20294764633449702,
          0.22672629759420815
         ],
         "yaxis": "y3"
        },
        {
         "mode": "lines",
         "name": "modelo linear",
         "type": "scatter",
         "uid": "5808e091-a1de-11e8-84a2-d05349f0ce53",
         "x": [
          194.3,
          194.4808080808081,
          194.66161616161617,
          194.84242424242424,
          195.02323232323232,
          195.20404040404043,
          195.3848484848485,
          195.56565656565658,
          195.74646464646466,
          195.92727272727274,
          196.1080808080808,
          196.2888888888889,
          196.46969696969697,
          196.65050505050505,
          196.83131313131315,
          197.01212121212123,
          197.1929292929293,
          197.37373737373738,
          197.55454545454546,
          197.73535353535354,
          197.91616161616162,
          198.0969696969697,
          198.27777777777777,
          198.45858585858588,
          198.63939393939395,
          198.82020202020203,
          199.0010101010101,
          199.1818181818182,
          199.36262626262626,
          199.54343434343434,
          199.72424242424242,
          199.9050505050505,
          200.0858585858586,
          200.26666666666668,
          200.44747474747476,
          200.62828282828283,
          200.8090909090909,
          200.989898989899,
          201.17070707070707,
          201.35151515151514,
          201.53232323232322,
          201.71313131313133,
          201.8939393939394,
          202.07474747474748,
          202.25555555555556,
          202.43636363636364,
          202.61717171717171,
          202.7979797979798,
          202.97878787878787,
          203.15959595959595,
          203.34040404040405,
          203.52121212121213,
          203.7020202020202,
          203.88282828282829,
          204.06363636363636,
          204.24444444444444,
          204.42525252525252,
          204.6060606060606,
          204.78686868686867,
          204.96767676767678,
          205.14848484848486,
          205.32929292929293,
          205.510101010101,
          205.6909090909091,
          205.87171717171717,
          206.05252525252524,
          206.23333333333332,
          206.4141414141414,
          206.5949494949495,
          206.77575757575758,
          206.95656565656566,
          207.13737373737374,
          207.3181818181818,
          207.4989898989899,
          207.67979797979797,
          207.86060606060605,
          208.04141414141412,
          208.22222222222223,
          208.4030303030303,
          208.58383838383838,
          208.76464646464646,
          208.94545454545454,
          209.12626262626262,
          209.3070707070707,
          209.48787878787877,
          209.66868686868685,
          209.84949494949495,
          210.03030303030303,
          210.2111111111111,
          210.3919191919192,
          210.57272727272726,
          210.75353535353534,
          210.93434343434342,
          211.1151515151515,
          211.29595959595957,
          211.47676767676768,
          211.65757575757576,
          211.83838383838383,
          212.0191919191919,
          212.2
         ],
         "y": [
          20.512066560901744,
          20.606220168391673,
          20.700373775881616,
          20.79452738337156,
          20.888680990861488,
          20.982834598351445,
          21.07698820584139,
          21.171141813331317,
          21.26529542082126,
          21.359449028311204,
          21.453602635801133,
          21.547756243291076,
          21.64190985078102,
          21.736063458270948,
          21.830217065760905,
          21.92437067325085,
          22.018524280740777,
          22.11267788823072,
          22.20683149572065,
          22.300985103210593,
          22.395138710700536,
          22.489292318190465,
          22.583445925680408,
          22.677599533170365,
          22.771753140660294,
          22.865906748150238,
          22.96006035564018,
          23.05421396313011,
          23.148367570620053,
          23.242521178109996,
          23.336674785599925,
          23.430828393089868,
          23.524982000579826,
          23.619135608069755,
          23.713289215559698,
          23.80744282304964,
          23.90159643053957,
          23.995750038029513,
          24.089903645519456,
          24.184057253009385,
          24.27821086049933,
          24.372364467989286,
          24.466518075479215,
          24.560671682969158,
          24.6548252904591,
          24.74897889794903,
          24.843132505438973,
          24.937286112928916,
          25.031439720418845,
          25.12559332790879,
          25.219746935398746,
          25.313900542888675,
          25.408054150378618,
          25.502207757868547,
          25.59636136535849,
          25.690514972848433,
          25.784668580338362,
          25.878822187828305,
          25.97297579531825,
          26.06712940280819,
          26.161283010298135,
          26.255436617788078,
          26.349590225278007,
          26.44374383276795,
          26.537897440257893,
          26.632051047747822,
          26.726204655237765,
          26.82035826272771,
          26.914511870217652,
          27.008665477707595,
          27.102819085197538,
          27.196972692687467,
          27.29112630017741,
          27.385279907667353,
          27.479433515157282,
          27.573587122647226,
          27.66774073013717,
          27.761894337627112,
          27.856047945117055,
          27.950201552607,
          28.044355160096927,
          28.13850876758687,
          28.232662375076814,
          28.326815982566742,
          28.420969590056686,
          28.515123197546615,
          28.609276805036572,
          28.703430412526515,
          28.797584020016444,
          28.891737627506387,
          28.98589123499633,
          29.08004484248626,
          29.174198449976203,
          29.268352057466146,
          29.362505664956075,
          29.456659272446032,
          29.550812879935975,
          29.644966487425904,
          29.739120094915847,
          29.83327370240579
         ],
         "yaxis": "y2"
        },
        {
         "mode": "markers",
         "name": "dataset",
         "type": "scatter",
         "uid": "5808e092-a1de-11e8-84a2-d05349f0ce53",
         "x": [
          194.5,
          194.3,
          197.9,
          198.4,
          199.4,
          199.9,
          200.9,
          201.1,
          201.4,
          201.3,
          203.6,
          209.5,
          208.6,
          210.7,
          211.9,
          212.2
         ],
         "y": [
          20.79,
          20.79,
          22.4,
          22.67,
          23.15,
          23.35,
          23.89,
          23.99,
          24.02,
          24.01,
          25.14,
          28.49,
          27.76,
          29.04,
          29.88,
          30.06
         ]
        }
       ],
       "layout": {
        "legend": {
         "orientation": "h",
         "y": -0.05
        },
        "title": "Gráfico do dataset, modelo linear e respectivo erro",
        "xaxis": {
         "title": "Temperatura de ebulição (°F)",
         "titlefont": {
          "color": "#7f7f7f",
          "family": "Courier New, monospace",
          "size": 18
         }
        },
        "yaxis": {
         "range": [
          19.863,
          30.987
         ],
         "title": "Pressão (polegadas de Hg)",
         "titlefont": {
          "color": "#7f7f7f",
          "family": "Courier New, monospace",
          "size": 18
         }
        },
        "yaxis2": {
         "overlaying": "y",
         "range": [
          19.863,
          30.987
         ],
         "side": "left",
         "visible": false
        },
        "yaxis3": {
         "anchor": "x",
         "overlaying": "y",
         "side": "right",
         "title": "Módulo do erro",
         "titlefont": {
          "color": "#7f7f7f",
          "family": "Courier New, monospace",
          "size": 18
         }
        }
       }
      },
      "text/html": [
       "<div id=\"0e2d067d-5fe2-490f-a4fe-25d26eeed57c\" style=\"height: 525px; width: 100%;\" class=\"plotly-graph-div\"></div><script type=\"text/javascript\">require([\"plotly\"], function(Plotly) { window.PLOTLYENV=window.PLOTLYENV || {};window.PLOTLYENV.BASE_URL=\"https://plot.ly\";\n",
       "        Plotly.plot(\n",
       "            '0e2d067d-5fe2-490f-a4fe-25d26eeed57c',\n",
       "            [{\"name\": \"m\\u00f3dulo do erro\", \"x\": [194.5, 194.3, 197.9, 198.4, 199.4, 199.9, 200.9, 201.1, 201.4, 201.3, 203.6, 209.5, 208.6, 210.7, 211.9, 212.2], \"y\": [0.17378587327140593, 0.2779334390982555, 0.013277254214763445, 0.022908339647614184, 0.017829489486693717, 0.07819840405384326, 0.05893623318814889, 0.06308379901500061, 0.18930514775530227, 0.1472313648418755, 0.2149283718507604, 0.0627184362568336, 0.1986175175222833, 0.012166958704334263, 0.20294764633449702, 0.22672629759420815], \"yaxis\": \"y3\", \"type\": \"bar\", \"uid\": \"5808e090-a1de-11e8-84a2-d05349f0ce53\"}, {\"mode\": \"lines\", \"name\": \"modelo linear\", \"x\": [194.3, 194.4808080808081, 194.66161616161617, 194.84242424242424, 195.02323232323232, 195.20404040404043, 195.3848484848485, 195.56565656565658, 195.74646464646466, 195.92727272727274, 196.1080808080808, 196.2888888888889, 196.46969696969697, 196.65050505050505, 196.83131313131315, 197.01212121212123, 197.1929292929293, 197.37373737373738, 197.55454545454546, 197.73535353535354, 197.91616161616162, 198.0969696969697, 198.27777777777777, 198.45858585858588, 198.63939393939395, 198.82020202020203, 199.0010101010101, 199.1818181818182, 199.36262626262626, 199.54343434343434, 199.72424242424242, 199.9050505050505, 200.0858585858586, 200.26666666666668, 200.44747474747476, 200.62828282828283, 200.8090909090909, 200.989898989899, 201.17070707070707, 201.35151515151514, 201.53232323232322, 201.71313131313133, 201.8939393939394, 202.07474747474748, 202.25555555555556, 202.43636363636364, 202.61717171717171, 202.7979797979798, 202.97878787878787, 203.15959595959595, 203.34040404040405, 203.52121212121213, 203.7020202020202, 203.88282828282829, 204.06363636363636, 204.24444444444444, 204.42525252525252, 204.6060606060606, 204.78686868686867, 204.96767676767678, 205.14848484848486, 205.32929292929293, 205.510101010101, 205.6909090909091, 205.87171717171717, 206.05252525252524, 206.23333333333332, 206.4141414141414, 206.5949494949495, 206.77575757575758, 206.95656565656566, 207.13737373737374, 207.3181818181818, 207.4989898989899, 207.67979797979797, 207.86060606060605, 208.04141414141412, 208.22222222222223, 208.4030303030303, 208.58383838383838, 208.76464646464646, 208.94545454545454, 209.12626262626262, 209.3070707070707, 209.48787878787877, 209.66868686868685, 209.84949494949495, 210.03030303030303, 210.2111111111111, 210.3919191919192, 210.57272727272726, 210.75353535353534, 210.93434343434342, 211.1151515151515, 211.29595959595957, 211.47676767676768, 211.65757575757576, 211.83838383838383, 212.0191919191919, 212.2], \"y\": [20.512066560901744, 20.606220168391673, 20.700373775881616, 20.79452738337156, 20.888680990861488, 20.982834598351445, 21.07698820584139, 21.171141813331317, 21.26529542082126, 21.359449028311204, 21.453602635801133, 21.547756243291076, 21.64190985078102, 21.736063458270948, 21.830217065760905, 21.92437067325085, 22.018524280740777, 22.11267788823072, 22.20683149572065, 22.300985103210593, 22.395138710700536, 22.489292318190465, 22.583445925680408, 22.677599533170365, 22.771753140660294, 22.865906748150238, 22.96006035564018, 23.05421396313011, 23.148367570620053, 23.242521178109996, 23.336674785599925, 23.430828393089868, 23.524982000579826, 23.619135608069755, 23.713289215559698, 23.80744282304964, 23.90159643053957, 23.995750038029513, 24.089903645519456, 24.184057253009385, 24.27821086049933, 24.372364467989286, 24.466518075479215, 24.560671682969158, 24.6548252904591, 24.74897889794903, 24.843132505438973, 24.937286112928916, 25.031439720418845, 25.12559332790879, 25.219746935398746, 25.313900542888675, 25.408054150378618, 25.502207757868547, 25.59636136535849, 25.690514972848433, 25.784668580338362, 25.878822187828305, 25.97297579531825, 26.06712940280819, 26.161283010298135, 26.255436617788078, 26.349590225278007, 26.44374383276795, 26.537897440257893, 26.632051047747822, 26.726204655237765, 26.82035826272771, 26.914511870217652, 27.008665477707595, 27.102819085197538, 27.196972692687467, 27.29112630017741, 27.385279907667353, 27.479433515157282, 27.573587122647226, 27.66774073013717, 27.761894337627112, 27.856047945117055, 27.950201552607, 28.044355160096927, 28.13850876758687, 28.232662375076814, 28.326815982566742, 28.420969590056686, 28.515123197546615, 28.609276805036572, 28.703430412526515, 28.797584020016444, 28.891737627506387, 28.98589123499633, 29.08004484248626, 29.174198449976203, 29.268352057466146, 29.362505664956075, 29.456659272446032, 29.550812879935975, 29.644966487425904, 29.739120094915847, 29.83327370240579], \"yaxis\": \"y2\", \"type\": \"scatter\", \"uid\": \"5808e091-a1de-11e8-84a2-d05349f0ce53\"}, {\"mode\": \"markers\", \"name\": \"dataset\", \"x\": [194.5, 194.3, 197.9, 198.4, 199.4, 199.9, 200.9, 201.1, 201.4, 201.3, 203.6, 209.5, 208.6, 210.7, 211.9, 212.2], \"y\": [20.79, 20.79, 22.4, 22.67, 23.15, 23.35, 23.89, 23.99, 24.02, 24.01, 25.14, 28.49, 27.76, 29.04, 29.88, 30.06], \"type\": \"scatter\", \"uid\": \"5808e092-a1de-11e8-84a2-d05349f0ce53\"}],\n",
       "            {\"legend\": {\"orientation\": \"h\", \"y\": -0.05}, \"title\": \"Gr\\u00e1fico do dataset, modelo linear e respectivo erro\", \"xaxis\": {\"title\": \"Temperatura de ebuli\\u00e7\\u00e3o (\\u00b0F)\", \"titlefont\": {\"color\": \"#7f7f7f\", \"family\": \"Courier New, monospace\", \"size\": 18}}, \"yaxis\": {\"range\": [19.863, 30.987], \"title\": \"Press\\u00e3o (polegadas de Hg)\", \"titlefont\": {\"color\": \"#7f7f7f\", \"family\": \"Courier New, monospace\", \"size\": 18}}, \"yaxis2\": {\"overlaying\": \"y\", \"range\": [19.863, 30.987], \"side\": \"left\", \"visible\": false}, \"yaxis3\": {\"anchor\": \"x\", \"overlaying\": \"y\", \"side\": \"right\", \"title\": \"M\\u00f3dulo do erro\", \"titlefont\": {\"color\": \"#7f7f7f\", \"family\": \"Courier New, monospace\", \"size\": 18}}},\n",
       "            {\"showLink\": true, \"linkText\": \"Export to plot.ly\"}\n",
       "        ).then(function () {return Plotly.addFrames('0e2d067d-5fe2-490f-a4fe-25d26eeed57c',{});}).then(function(){Plotly.animate('0e2d067d-5fe2-490f-a4fe-25d26eeed57c');})\n",
       "        });</script>"
      ],
      "text/vnd.plotly.v1+html": [
       "<div id=\"0e2d067d-5fe2-490f-a4fe-25d26eeed57c\" style=\"height: 525px; width: 100%;\" class=\"plotly-graph-div\"></div><script type=\"text/javascript\">require([\"plotly\"], function(Plotly) { window.PLOTLYENV=window.PLOTLYENV || {};window.PLOTLYENV.BASE_URL=\"https://plot.ly\";\n",
       "        Plotly.plot(\n",
       "            '0e2d067d-5fe2-490f-a4fe-25d26eeed57c',\n",
       "            [{\"name\": \"m\\u00f3dulo do erro\", \"x\": [194.5, 194.3, 197.9, 198.4, 199.4, 199.9, 200.9, 201.1, 201.4, 201.3, 203.6, 209.5, 208.6, 210.7, 211.9, 212.2], \"y\": [0.17378587327140593, 0.2779334390982555, 0.013277254214763445, 0.022908339647614184, 0.017829489486693717, 0.07819840405384326, 0.05893623318814889, 0.06308379901500061, 0.18930514775530227, 0.1472313648418755, 0.2149283718507604, 0.0627184362568336, 0.1986175175222833, 0.012166958704334263, 0.20294764633449702, 0.22672629759420815], \"yaxis\": \"y3\", \"type\": \"bar\", \"uid\": \"5808e090-a1de-11e8-84a2-d05349f0ce53\"}, {\"mode\": \"lines\", \"name\": \"modelo linear\", \"x\": [194.3, 194.4808080808081, 194.66161616161617, 194.84242424242424, 195.02323232323232, 195.20404040404043, 195.3848484848485, 195.56565656565658, 195.74646464646466, 195.92727272727274, 196.1080808080808, 196.2888888888889, 196.46969696969697, 196.65050505050505, 196.83131313131315, 197.01212121212123, 197.1929292929293, 197.37373737373738, 197.55454545454546, 197.73535353535354, 197.91616161616162, 198.0969696969697, 198.27777777777777, 198.45858585858588, 198.63939393939395, 198.82020202020203, 199.0010101010101, 199.1818181818182, 199.36262626262626, 199.54343434343434, 199.72424242424242, 199.9050505050505, 200.0858585858586, 200.26666666666668, 200.44747474747476, 200.62828282828283, 200.8090909090909, 200.989898989899, 201.17070707070707, 201.35151515151514, 201.53232323232322, 201.71313131313133, 201.8939393939394, 202.07474747474748, 202.25555555555556, 202.43636363636364, 202.61717171717171, 202.7979797979798, 202.97878787878787, 203.15959595959595, 203.34040404040405, 203.52121212121213, 203.7020202020202, 203.88282828282829, 204.06363636363636, 204.24444444444444, 204.42525252525252, 204.6060606060606, 204.78686868686867, 204.96767676767678, 205.14848484848486, 205.32929292929293, 205.510101010101, 205.6909090909091, 205.87171717171717, 206.05252525252524, 206.23333333333332, 206.4141414141414, 206.5949494949495, 206.77575757575758, 206.95656565656566, 207.13737373737374, 207.3181818181818, 207.4989898989899, 207.67979797979797, 207.86060606060605, 208.04141414141412, 208.22222222222223, 208.4030303030303, 208.58383838383838, 208.76464646464646, 208.94545454545454, 209.12626262626262, 209.3070707070707, 209.48787878787877, 209.66868686868685, 209.84949494949495, 210.03030303030303, 210.2111111111111, 210.3919191919192, 210.57272727272726, 210.75353535353534, 210.93434343434342, 211.1151515151515, 211.29595959595957, 211.47676767676768, 211.65757575757576, 211.83838383838383, 212.0191919191919, 212.2], \"y\": [20.512066560901744, 20.606220168391673, 20.700373775881616, 20.79452738337156, 20.888680990861488, 20.982834598351445, 21.07698820584139, 21.171141813331317, 21.26529542082126, 21.359449028311204, 21.453602635801133, 21.547756243291076, 21.64190985078102, 21.736063458270948, 21.830217065760905, 21.92437067325085, 22.018524280740777, 22.11267788823072, 22.20683149572065, 22.300985103210593, 22.395138710700536, 22.489292318190465, 22.583445925680408, 22.677599533170365, 22.771753140660294, 22.865906748150238, 22.96006035564018, 23.05421396313011, 23.148367570620053, 23.242521178109996, 23.336674785599925, 23.430828393089868, 23.524982000579826, 23.619135608069755, 23.713289215559698, 23.80744282304964, 23.90159643053957, 23.995750038029513, 24.089903645519456, 24.184057253009385, 24.27821086049933, 24.372364467989286, 24.466518075479215, 24.560671682969158, 24.6548252904591, 24.74897889794903, 24.843132505438973, 24.937286112928916, 25.031439720418845, 25.12559332790879, 25.219746935398746, 25.313900542888675, 25.408054150378618, 25.502207757868547, 25.59636136535849, 25.690514972848433, 25.784668580338362, 25.878822187828305, 25.97297579531825, 26.06712940280819, 26.161283010298135, 26.255436617788078, 26.349590225278007, 26.44374383276795, 26.537897440257893, 26.632051047747822, 26.726204655237765, 26.82035826272771, 26.914511870217652, 27.008665477707595, 27.102819085197538, 27.196972692687467, 27.29112630017741, 27.385279907667353, 27.479433515157282, 27.573587122647226, 27.66774073013717, 27.761894337627112, 27.856047945117055, 27.950201552607, 28.044355160096927, 28.13850876758687, 28.232662375076814, 28.326815982566742, 28.420969590056686, 28.515123197546615, 28.609276805036572, 28.703430412526515, 28.797584020016444, 28.891737627506387, 28.98589123499633, 29.08004484248626, 29.174198449976203, 29.268352057466146, 29.362505664956075, 29.456659272446032, 29.550812879935975, 29.644966487425904, 29.739120094915847, 29.83327370240579], \"yaxis\": \"y2\", \"type\": \"scatter\", \"uid\": \"5808e091-a1de-11e8-84a2-d05349f0ce53\"}, {\"mode\": \"markers\", \"name\": \"dataset\", \"x\": [194.5, 194.3, 197.9, 198.4, 199.4, 199.9, 200.9, 201.1, 201.4, 201.3, 203.6, 209.5, 208.6, 210.7, 211.9, 212.2], \"y\": [20.79, 20.79, 22.4, 22.67, 23.15, 23.35, 23.89, 23.99, 24.02, 24.01, 25.14, 28.49, 27.76, 29.04, 29.88, 30.06], \"type\": \"scatter\", \"uid\": \"5808e092-a1de-11e8-84a2-d05349f0ce53\"}],\n",
       "            {\"legend\": {\"orientation\": \"h\", \"y\": -0.05}, \"title\": \"Gr\\u00e1fico do dataset, modelo linear e respectivo erro\", \"xaxis\": {\"title\": \"Temperatura de ebuli\\u00e7\\u00e3o (\\u00b0F)\", \"titlefont\": {\"color\": \"#7f7f7f\", \"family\": \"Courier New, monospace\", \"size\": 18}}, \"yaxis\": {\"range\": [19.863, 30.987], \"title\": \"Press\\u00e3o (polegadas de Hg)\", \"titlefont\": {\"color\": \"#7f7f7f\", \"family\": \"Courier New, monospace\", \"size\": 18}}, \"yaxis2\": {\"overlaying\": \"y\", \"range\": [19.863, 30.987], \"side\": \"left\", \"visible\": false}, \"yaxis3\": {\"anchor\": \"x\", \"overlaying\": \"y\", \"side\": \"right\", \"title\": \"M\\u00f3dulo do erro\", \"titlefont\": {\"color\": \"#7f7f7f\", \"family\": \"Courier New, monospace\", \"size\": 18}}},\n",
       "            {\"showLink\": true, \"linkText\": \"Export to plot.ly\"}\n",
       "        ).then(function () {return Plotly.addFrames('0e2d067d-5fe2-490f-a4fe-25d26eeed57c',{});}).then(function(){Plotly.animate('0e2d067d-5fe2-490f-a4fe-25d26eeed57c');})\n",
       "        });</script>"
      ]
     },
     "metadata": {},
     "output_type": "display_data"
    },
    {
     "data": {
      "application/vnd.plotly.v1+json": {
       "data": [
        {
         "histnorm": "probability density",
         "type": "histogram",
         "uid": "5808e093-a1de-11e8-84a2-d05349f0ce53",
         "x": [
          0.17378587327140593,
          0.2779334390982555,
          0.013277254214763445,
          0.022908339647614184,
          -0.017829489486693717,
          -0.07819840405384326,
          -0.05893623318814889,
          -0.06308379901500061,
          -0.18930514775530227,
          -0.1472313648418755,
          -0.2149283718507604,
          0.0627184362568336,
          -0.1986175175222833,
          -0.012166958704334263,
          0.20294764633449702,
          0.22672629759420815
         ]
        }
       ],
       "layout": {
        "title": "Histograma dos resíduos",
        "xaxis": {
         "title": "Valor do erro",
         "titlefont": {
          "color": "#7f7f7f",
          "family": "Courier New, monospace",
          "size": 18
         }
        },
        "yaxis": {
         "title": "Densidade de probabilidade",
         "titlefont": {
          "color": "#7f7f7f",
          "family": "Courier New, monospace",
          "size": 18
         }
        }
       }
      },
      "text/html": [
       "<div id=\"9fbb1954-fdf6-4082-8357-a8a6b3e25ec5\" style=\"height: 525px; width: 100%;\" class=\"plotly-graph-div\"></div><script type=\"text/javascript\">require([\"plotly\"], function(Plotly) { window.PLOTLYENV=window.PLOTLYENV || {};window.PLOTLYENV.BASE_URL=\"https://plot.ly\";\n",
       "        Plotly.plot(\n",
       "            '9fbb1954-fdf6-4082-8357-a8a6b3e25ec5',\n",
       "            [{\"histnorm\": \"probability density\", \"x\": [0.17378587327140593, 0.2779334390982555, 0.013277254214763445, 0.022908339647614184, -0.017829489486693717, -0.07819840405384326, -0.05893623318814889, -0.06308379901500061, -0.18930514775530227, -0.1472313648418755, -0.2149283718507604, 0.0627184362568336, -0.1986175175222833, -0.012166958704334263, 0.20294764633449702, 0.22672629759420815], \"type\": \"histogram\", \"uid\": \"5808e093-a1de-11e8-84a2-d05349f0ce53\"}],\n",
       "            {\"title\": \"Histograma dos res\\u00edduos\", \"xaxis\": {\"title\": \"Valor do erro\", \"titlefont\": {\"color\": \"#7f7f7f\", \"family\": \"Courier New, monospace\", \"size\": 18}}, \"yaxis\": {\"title\": \"Densidade de probabilidade\", \"titlefont\": {\"color\": \"#7f7f7f\", \"family\": \"Courier New, monospace\", \"size\": 18}}},\n",
       "            {\"showLink\": true, \"linkText\": \"Export to plot.ly\"}\n",
       "        ).then(function () {return Plotly.addFrames('9fbb1954-fdf6-4082-8357-a8a6b3e25ec5',{});}).then(function(){Plotly.animate('9fbb1954-fdf6-4082-8357-a8a6b3e25ec5');})\n",
       "        });</script>"
      ],
      "text/vnd.plotly.v1+html": [
       "<div id=\"9fbb1954-fdf6-4082-8357-a8a6b3e25ec5\" style=\"height: 525px; width: 100%;\" class=\"plotly-graph-div\"></div><script type=\"text/javascript\">require([\"plotly\"], function(Plotly) { window.PLOTLYENV=window.PLOTLYENV || {};window.PLOTLYENV.BASE_URL=\"https://plot.ly\";\n",
       "        Plotly.plot(\n",
       "            '9fbb1954-fdf6-4082-8357-a8a6b3e25ec5',\n",
       "            [{\"histnorm\": \"probability density\", \"x\": [0.17378587327140593, 0.2779334390982555, 0.013277254214763445, 0.022908339647614184, -0.017829489486693717, -0.07819840405384326, -0.05893623318814889, -0.06308379901500061, -0.18930514775530227, -0.1472313648418755, -0.2149283718507604, 0.0627184362568336, -0.1986175175222833, -0.012166958704334263, 0.20294764633449702, 0.22672629759420815], \"type\": \"histogram\", \"uid\": \"5808e093-a1de-11e8-84a2-d05349f0ce53\"}],\n",
       "            {\"title\": \"Histograma dos res\\u00edduos\", \"xaxis\": {\"title\": \"Valor do erro\", \"titlefont\": {\"color\": \"#7f7f7f\", \"family\": \"Courier New, monospace\", \"size\": 18}}, \"yaxis\": {\"title\": \"Densidade de probabilidade\", \"titlefont\": {\"color\": \"#7f7f7f\", \"family\": \"Courier New, monospace\", \"size\": 18}}},\n",
       "            {\"showLink\": true, \"linkText\": \"Export to plot.ly\"}\n",
       "        ).then(function () {return Plotly.addFrames('9fbb1954-fdf6-4082-8357-a8a6b3e25ec5',{});}).then(function(){Plotly.animate('9fbb1954-fdf6-4082-8357-a8a6b3e25ec5');})\n",
       "        });</script>"
      ]
     },
     "metadata": {},
     "output_type": "display_data"
    },
    {
     "data": {
      "application/vnd.plotly.v1+json": {
       "data": [
        {
         "boxmean": "sd",
         "boxpoints": "all",
         "jitter": 0.3,
         "pointpos": -1.8,
         "type": "box",
         "uid": "5808e094-a1de-11e8-84a2-d05349f0ce53",
         "y": [
          0.17378587327140593,
          0.2779334390982555,
          0.013277254214763445,
          0.022908339647614184,
          -0.017829489486693717,
          -0.07819840405384326,
          -0.05893623318814889,
          -0.06308379901500061,
          -0.18930514775530227,
          -0.1472313648418755,
          -0.2149283718507604,
          0.0627184362568336,
          -0.1986175175222833,
          -0.012166958704334263,
          0.20294764633449702,
          0.22672629759420815
         ]
        }
       ],
       "layout": {
        "title": "Boxplot dos resíduos"
       }
      },
      "text/html": [
       "<div id=\"62af46ef-ffcf-43ab-a64c-546ee32cb278\" style=\"height: 525px; width: 100%;\" class=\"plotly-graph-div\"></div><script type=\"text/javascript\">require([\"plotly\"], function(Plotly) { window.PLOTLYENV=window.PLOTLYENV || {};window.PLOTLYENV.BASE_URL=\"https://plot.ly\";\n",
       "        Plotly.plot(\n",
       "            '62af46ef-ffcf-43ab-a64c-546ee32cb278',\n",
       "            [{\"boxmean\": \"sd\", \"boxpoints\": \"all\", \"jitter\": 0.3, \"pointpos\": -1.8, \"y\": [0.17378587327140593, 0.2779334390982555, 0.013277254214763445, 0.022908339647614184, -0.017829489486693717, -0.07819840405384326, -0.05893623318814889, -0.06308379901500061, -0.18930514775530227, -0.1472313648418755, -0.2149283718507604, 0.0627184362568336, -0.1986175175222833, -0.012166958704334263, 0.20294764633449702, 0.22672629759420815], \"type\": \"box\", \"uid\": \"5808e094-a1de-11e8-84a2-d05349f0ce53\"}],\n",
       "            {\"title\": \"Boxplot dos res\\u00edduos\"},\n",
       "            {\"showLink\": true, \"linkText\": \"Export to plot.ly\"}\n",
       "        ).then(function () {return Plotly.addFrames('62af46ef-ffcf-43ab-a64c-546ee32cb278',{});}).then(function(){Plotly.animate('62af46ef-ffcf-43ab-a64c-546ee32cb278');})\n",
       "        });</script>"
      ],
      "text/vnd.plotly.v1+html": [
       "<div id=\"62af46ef-ffcf-43ab-a64c-546ee32cb278\" style=\"height: 525px; width: 100%;\" class=\"plotly-graph-div\"></div><script type=\"text/javascript\">require([\"plotly\"], function(Plotly) { window.PLOTLYENV=window.PLOTLYENV || {};window.PLOTLYENV.BASE_URL=\"https://plot.ly\";\n",
       "        Plotly.plot(\n",
       "            '62af46ef-ffcf-43ab-a64c-546ee32cb278',\n",
       "            [{\"boxmean\": \"sd\", \"boxpoints\": \"all\", \"jitter\": 0.3, \"pointpos\": -1.8, \"y\": [0.17378587327140593, 0.2779334390982555, 0.013277254214763445, 0.022908339647614184, -0.017829489486693717, -0.07819840405384326, -0.05893623318814889, -0.06308379901500061, -0.18930514775530227, -0.1472313648418755, -0.2149283718507604, 0.0627184362568336, -0.1986175175222833, -0.012166958704334263, 0.20294764633449702, 0.22672629759420815], \"type\": \"box\", \"uid\": \"5808e094-a1de-11e8-84a2-d05349f0ce53\"}],\n",
       "            {\"title\": \"Boxplot dos res\\u00edduos\"},\n",
       "            {\"showLink\": true, \"linkText\": \"Export to plot.ly\"}\n",
       "        ).then(function () {return Plotly.addFrames('62af46ef-ffcf-43ab-a64c-546ee32cb278',{});}).then(function(){Plotly.animate('62af46ef-ffcf-43ab-a64c-546ee32cb278');})\n",
       "        });</script>"
      ]
     },
     "metadata": {},
     "output_type": "display_data"
    },
    {
     "data": {
      "text/html": [
       "<div>\n",
       "<style scoped>\n",
       "    .dataframe tbody tr th:only-of-type {\n",
       "        vertical-align: middle;\n",
       "    }\n",
       "\n",
       "    .dataframe tbody tr th {\n",
       "        vertical-align: top;\n",
       "    }\n",
       "\n",
       "    .dataframe thead th {\n",
       "        text-align: right;\n",
       "    }\n",
       "</style>\n",
       "<table border=\"1\" class=\"dataframe\">\n",
       "  <thead>\n",
       "    <tr style=\"text-align: right;\">\n",
       "      <th></th>\n",
       "      <th>Parâmetros da regressão</th>\n",
       "      <th>R²</th>\n",
       "      <th>Var(e)</th>\n",
       "      <th>SW P-value</th>\n",
       "    </tr>\n",
       "  </thead>\n",
       "  <tbody>\n",
       "    <tr>\n",
       "      <th>0</th>\n",
       "      <td>[0.520737829134305, -80.66729363989373]</td>\n",
       "      <td>0.997478</td>\n",
       "      <td>0.024124</td>\n",
       "      <td>0.366088</td>\n",
       "    </tr>\n",
       "  </tbody>\n",
       "</table>\n",
       "</div>"
      ],
      "text/plain": [
       "                   Parâmetros da regressão        R²    Var(e)  SW P-value\n",
       "0  [0.520737829134305, -80.66729363989373]  0.997478  0.024124    0.366088"
      ]
     },
     "execution_count": 18,
     "metadata": {},
     "output_type": "execute_result"
    }
   ],
   "source": [
    "# Limpando o conjunto de dados\n",
    "x_clean = x.copy()\n",
    "x_clean['valores'] = [q for q in x['valores'] if q != x['valores'][index]]\n",
    "y_clean = y.copy()\n",
    "y_clean['valores'] = [q for q in y['valores'] if q != y['valores'][index]]\n",
    "\n",
    "# Nova análise\n",
    "dfB2 = regressionAnalysis(x_clean, y_clean)\n",
    "dfB2"
   ]
  },
  {
   "cell_type": "markdown",
   "metadata": {},
   "source": [
    "Os resultados das duas regressões podem ser vistos na `\\ref{tab:compReg01e02}`."
   ]
  },
  {
   "cell_type": "code",
   "execution_count": 19,
   "metadata": {},
   "outputs": [
    {
     "data": {
      "text/html": [
       "<div>\n",
       "<style scoped>\n",
       "    .dataframe tbody tr th:only-of-type {\n",
       "        vertical-align: middle;\n",
       "    }\n",
       "\n",
       "    .dataframe tbody tr th {\n",
       "        vertical-align: top;\n",
       "    }\n",
       "\n",
       "    .dataframe thead th {\n",
       "        text-align: right;\n",
       "    }\n",
       "</style>\n",
       "<table border=\"1\" class=\"dataframe\">\n",
       "  <thead>\n",
       "    <tr style=\"text-align: right;\">\n",
       "      <th></th>\n",
       "      <th>Parâmetros da regressão</th>\n",
       "      <th>R²</th>\n",
       "      <th>Var(e)</th>\n",
       "      <th>SW P-value</th>\n",
       "    </tr>\n",
       "  </thead>\n",
       "  <tbody>\n",
       "    <tr>\n",
       "      <th>Com outlier</th>\n",
       "      <td>[0.5228924007846376, -81.0637271286563]</td>\n",
       "      <td>0.994428</td>\n",
       "      <td>0.050821</td>\n",
       "      <td>0.023949</td>\n",
       "    </tr>\n",
       "    <tr>\n",
       "      <th>Sem outlier</th>\n",
       "      <td>[0.520737829134305, -80.66729363989373]</td>\n",
       "      <td>0.997478</td>\n",
       "      <td>0.024124</td>\n",
       "      <td>0.366088</td>\n",
       "    </tr>\n",
       "  </tbody>\n",
       "</table>\n",
       "</div>"
      ],
      "text/plain": [
       "                             Parâmetros da regressão        R²    Var(e)  \\\n",
       "Com outlier  [0.5228924007846376, -81.0637271286563]  0.994428  0.050821   \n",
       "Sem outlier  [0.520737829134305, -80.66729363989373]  0.997478  0.024124   \n",
       "\n",
       "             SW P-value  \n",
       "Com outlier    0.023949  \n",
       "Sem outlier    0.366088  "
      ]
     },
     "execution_count": 19,
     "metadata": {},
     "output_type": "execute_result"
    }
   ],
   "source": [
    "compReg01e02 = pd.concat([dfB, dfB2])\n",
    "compReg01e02.index = [\"Com outlier\", \"Sem outlier\"]\n",
    "compReg01e02"
   ]
  },
  {
   "cell_type": "markdown",
   "metadata": {},
   "source": [
    "Podemos ver que a retirada do outlier melhorou as métricas utilizadas para avaliar o modelo: \n",
    "  * Valor de $R^2$ aumentou;\n",
    "  * Variância dos resíduos diminuiu;\n",
    "  * P-value do teste de Shapiro-Wilk aumentou ao ponto de permitir a aceitação da hipótese de normalidade dos resíduos.\n",
    "\n",
    "Apesar do aumento de performance do modelo não é indicado a retirada do outlier devido ao tamanho do conjunto de dados (apenas 17 amostras). Uma atitude mais coerente seria voltar ao campo e obter mais dados, dessa forma o efeito dos outliers seria diluído a medida que o \\textit{dataset} aumentasse."
   ]
  },
  {
   "cell_type": "markdown",
   "metadata": {},
   "source": [
    "<h3><b>\n",
    "1.3 Análise da dependência entre o logaritmo da pressão e o ponto de ebulição\n",
    "</b></h3>"
   ]
  },
  {
   "cell_type": "markdown",
   "metadata": {},
   "source": [
    "Inicialmente um gráfico do Logaritmo da Pressão versus Temperatura de Ebulição foi feito, o resultado pode ser visto na Figura `\\ref{fig:dataset02}`."
   ]
  },
  {
   "cell_type": "code",
   "execution_count": 20,
   "metadata": {},
   "outputs": [
    {
     "data": {
      "application/vnd.plotly.v1+json": {
       "data": [
        {
         "mode": "markers",
         "name": "dataset",
         "type": "scatter",
         "uid": "62c221cc-a1de-11e8-84a2-d05349f0ce53",
         "x": [
          194.5,
          194.3,
          197.9,
          198.4,
          199.4,
          199.9,
          200.9,
          201.1,
          201.4,
          201.3,
          203.6,
          204.6,
          209.5,
          208.6,
          210.7,
          211.9,
          212.2
         ],
         "y": [
          3.0344721018699214,
          3.0344721018699214,
          3.109060958860994,
          3.1210424645194377,
          3.1419947805322432,
          3.150596984114906,
          3.173459961337718,
          3.177637076851603,
          3.1788868166518376,
          3.178470410233162,
          3.2244602031621015,
          3.279782759771722,
          3.3495531485098167,
          3.3235961356386037,
          3.3686741899565953,
          3.3971893602646164,
          3.4031953843248286
         ]
        }
       ],
       "layout": {
        "title": "datasetPlotly",
        "xaxis": {
         "title": "Temperatura de ebulição (°F)",
         "titlefont": {
          "color": "#7f7f7f",
          "family": "Courier New, monospace",
          "size": 18
         }
        },
        "yaxis": {
         "title": "Logarítimo da Pressão (polegadas de Hg)",
         "titlefont": {
          "color": "#7f7f7f",
          "family": "Courier New, monospace",
          "size": 18
         }
        }
       }
      },
      "text/html": [
       "<div id=\"7e2a08b9-8029-489c-8da2-fa8c74e0995b\" style=\"height: 525px; width: 100%;\" class=\"plotly-graph-div\"></div><script type=\"text/javascript\">require([\"plotly\"], function(Plotly) { window.PLOTLYENV=window.PLOTLYENV || {};window.PLOTLYENV.BASE_URL=\"https://plot.ly\";\n",
       "        Plotly.plot(\n",
       "            '7e2a08b9-8029-489c-8da2-fa8c74e0995b',\n",
       "            [{\"mode\": \"markers\", \"name\": \"dataset\", \"x\": [194.5, 194.3, 197.9, 198.4, 199.4, 199.9, 200.9, 201.1, 201.4, 201.3, 203.6, 204.6, 209.5, 208.6, 210.7, 211.9, 212.2], \"y\": [3.0344721018699214, 3.0344721018699214, 3.109060958860994, 3.1210424645194377, 3.1419947805322432, 3.150596984114906, 3.173459961337718, 3.177637076851603, 3.1788868166518376, 3.178470410233162, 3.2244602031621015, 3.279782759771722, 3.3495531485098167, 3.3235961356386037, 3.3686741899565953, 3.3971893602646164, 3.4031953843248286], \"type\": \"scatter\", \"uid\": \"62c221cc-a1de-11e8-84a2-d05349f0ce53\"}],\n",
       "            {\"title\": \"datasetPlotly\", \"xaxis\": {\"title\": \"Temperatura de ebuli\\u00e7\\u00e3o (\\u00b0F)\", \"titlefont\": {\"color\": \"#7f7f7f\", \"family\": \"Courier New, monospace\", \"size\": 18}}, \"yaxis\": {\"title\": \"Logar\\u00edtimo da Press\\u00e3o (polegadas de Hg)\", \"titlefont\": {\"color\": \"#7f7f7f\", \"family\": \"Courier New, monospace\", \"size\": 18}}},\n",
       "            {\"showLink\": true, \"linkText\": \"Export to plot.ly\"}\n",
       "        ).then(function () {return Plotly.addFrames('7e2a08b9-8029-489c-8da2-fa8c74e0995b',{});}).then(function(){Plotly.animate('7e2a08b9-8029-489c-8da2-fa8c74e0995b');})\n",
       "        });</script>"
      ],
      "text/vnd.plotly.v1+html": [
       "<div id=\"7e2a08b9-8029-489c-8da2-fa8c74e0995b\" style=\"height: 525px; width: 100%;\" class=\"plotly-graph-div\"></div><script type=\"text/javascript\">require([\"plotly\"], function(Plotly) { window.PLOTLYENV=window.PLOTLYENV || {};window.PLOTLYENV.BASE_URL=\"https://plot.ly\";\n",
       "        Plotly.plot(\n",
       "            '7e2a08b9-8029-489c-8da2-fa8c74e0995b',\n",
       "            [{\"mode\": \"markers\", \"name\": \"dataset\", \"x\": [194.5, 194.3, 197.9, 198.4, 199.4, 199.9, 200.9, 201.1, 201.4, 201.3, 203.6, 204.6, 209.5, 208.6, 210.7, 211.9, 212.2], \"y\": [3.0344721018699214, 3.0344721018699214, 3.109060958860994, 3.1210424645194377, 3.1419947805322432, 3.150596984114906, 3.173459961337718, 3.177637076851603, 3.1788868166518376, 3.178470410233162, 3.2244602031621015, 3.279782759771722, 3.3495531485098167, 3.3235961356386037, 3.3686741899565953, 3.3971893602646164, 3.4031953843248286], \"type\": \"scatter\", \"uid\": \"62c221cc-a1de-11e8-84a2-d05349f0ce53\"}],\n",
       "            {\"title\": \"datasetPlotly\", \"xaxis\": {\"title\": \"Temperatura de ebuli\\u00e7\\u00e3o (\\u00b0F)\", \"titlefont\": {\"color\": \"#7f7f7f\", \"family\": \"Courier New, monospace\", \"size\": 18}}, \"yaxis\": {\"title\": \"Logar\\u00edtimo da Press\\u00e3o (polegadas de Hg)\", \"titlefont\": {\"color\": \"#7f7f7f\", \"family\": \"Courier New, monospace\", \"size\": 18}}},\n",
       "            {\"showLink\": true, \"linkText\": \"Export to plot.ly\"}\n",
       "        ).then(function () {return Plotly.addFrames('7e2a08b9-8029-489c-8da2-fa8c74e0995b',{});}).then(function(){Plotly.animate('7e2a08b9-8029-489c-8da2-fa8c74e0995b');})\n",
       "        });</script>"
      ]
     },
     "metadata": {},
     "output_type": "display_data"
    }
   ],
   "source": [
    "from math import log\n",
    "\n",
    "logP = {\n",
    "    'valores': [log(p) for p in p['valores']], # Aplicando a função logarítimo nos valores da pressão\n",
    "    'nome':   \"Logarítimo da \"+ p['nome']\n",
    "}\n",
    "\n",
    "y = logP\n",
    "x = te\n",
    "\n",
    "plotData(x,y)"
   ]
  },
  {
   "cell_type": "markdown",
   "metadata": {},
   "source": [
    "O modelo linear foi adotado novamente, consequentemente assumindo a seguinte forma:\n",
    "\n",
    "$$log(p)=at_e+b+\\epsilon$$\n",
    "\n",
    "A estimação dos parâmetros foi feita utlizando o Método dos Mínimos Quadrados Ordinários e o resultado da análise se encontra a seguir."
   ]
  },
  {
   "cell_type": "code",
   "execution_count": 21,
   "metadata": {},
   "outputs": [
    {
     "data": {
      "application/vnd.plotly.v1+json": {
       "data": [
        {
         "name": "módulo do erro",
         "type": "bar",
         "uid": "65a1d2fc-a1de-11e8-84a2-d05349f0ce53",
         "x": [
          194.5,
          194.3,
          197.9,
          198.4,
          199.4,
          199.9,
          200.9,
          201.1,
          201.4,
          201.3,
          203.6,
          204.6,
          209.5,
          208.6,
          210.7,
          211.9,
          212.2
         ],
         "y": [
          0.005710930058694608,
          0.001586457830882182,
          0.0012381009404394128,
          0.00043222414847265966,
          0.0007621790222143154,
          0.0009467979646542446,
          0.0012938181190937925,
          0.0013464614051654777,
          0.003590507136319143,
          0.0019446774410880607,
          0.0033863151319954987,
          0.031313880338561084,
          3.4699495242929146e-05,
          0.007362188350812815,
          0.005591092424854782,
          0.001822755483710914,
          0.0020034397652177738
         ],
         "yaxis": "y3"
        },
        {
         "mode": "lines",
         "name": "modelo linear",
         "type": "scatter",
         "uid": "65a1d2fd-a1de-11e8-84a2-d05349f0ce53",
         "x": [
          194.3,
          194.4808080808081,
          194.66161616161617,
          194.84242424242424,
          195.02323232323232,
          195.20404040404043,
          195.3848484848485,
          195.56565656565658,
          195.74646464646466,
          195.92727272727274,
          196.1080808080808,
          196.2888888888889,
          196.46969696969697,
          196.65050505050505,
          196.83131313131315,
          197.01212121212123,
          197.1929292929293,
          197.37373737373738,
          197.55454545454546,
          197.73535353535354,
          197.91616161616162,
          198.0969696969697,
          198.27777777777777,
          198.45858585858588,
          198.63939393939395,
          198.82020202020203,
          199.0010101010101,
          199.1818181818182,
          199.36262626262626,
          199.54343434343434,
          199.72424242424242,
          199.9050505050505,
          200.0858585858586,
          200.26666666666668,
          200.44747474747476,
          200.62828282828283,
          200.8090909090909,
          200.989898989899,
          201.17070707070707,
          201.35151515151514,
          201.53232323232322,
          201.71313131313133,
          201.8939393939394,
          202.07474747474748,
          202.25555555555556,
          202.43636363636364,
          202.61717171717171,
          202.7979797979798,
          202.97878787878787,
          203.15959595959595,
          203.34040404040405,
          203.52121212121213,
          203.7020202020202,
          203.88282828282829,
          204.06363636363636,
          204.24444444444444,
          204.42525252525252,
          204.6060606060606,
          204.78686868686867,
          204.96767676767678,
          205.14848484848486,
          205.32929292929293,
          205.510101010101,
          205.6909090909091,
          205.87171717171717,
          206.05252525252524,
          206.23333333333332,
          206.4141414141414,
          206.5949494949495,
          206.77575757575758,
          206.95656565656566,
          207.13737373737374,
          207.3181818181818,
          207.4989898989899,
          207.67979797979797,
          207.86060606060605,
          208.04141414141412,
          208.22222222222223,
          208.4030303030303,
          208.58383838383838,
          208.76464646464646,
          208.94545454545454,
          209.12626262626262,
          209.3070707070707,
          209.48787878787877,
          209.66868686868685,
          209.84949494949495,
          210.03030303030303,
          210.2111111111111,
          210.3919191919192,
          210.57272727272726,
          210.75353535353534,
          210.93434343434342,
          211.1151515151515,
          211.29595959595957,
          211.47676767676768,
          211.65757575757576,
          211.83838383838383,
          212.0191919191919,
          212.2
         ],
         "y": [
          3.0360585597008036,
          3.0397872492400886,
          3.0435159387793735,
          3.0472446283186594,
          3.0509733178579443,
          3.05470200739723,
          3.058430696936515,
          3.0621593864758,
          3.065888076015086,
          3.069616765554371,
          3.073345455093656,
          3.0770741446329417,
          3.0808028341722267,
          3.0845315237115116,
          3.0882602132507975,
          3.0919889027900824,
          3.0957175923293683,
          3.0994462818686532,
          3.103174971407938,
          3.106903660947224,
          3.110632350486509,
          3.114361040025794,
          3.118089729565079,
          3.1218184191043648,
          3.1255471086436506,
          3.1292757981829356,
          3.1330044877222205,
          3.1367331772615055,
          3.1404618668007913,
          3.1441905563400763,
          3.1479192458793612,
          3.151647935418647,
          3.155376624957933,
          3.159105314497218,
          3.162834004036503,
          3.166562693575788,
          3.1702913831150736,
          3.1740200726543586,
          3.1777487621936436,
          3.1814774517329294,
          3.1852061412722144,
          3.1889348308115,
          3.192663520350785,
          3.19639220989007,
          3.200120899429356,
          3.203849588968641,
          3.207578278507926,
          3.2113069680472117,
          3.2150356575864967,
          3.2187643471257816,
          3.2224930366650675,
          3.2262217262043524,
          3.2299504157436383,
          3.2336791052829232,
          3.237407794822208,
          3.241136484361494,
          3.244865173900779,
          3.248593863440064,
          3.252322552979349,
          3.2560512425186348,
          3.2597799320579206,
          3.2635086215972056,
          3.2672373111364905,
          3.2709660006757764,
          3.2746946902150613,
          3.2784233797543463,
          3.2821520692936312,
          3.285880758832917,
          3.289609448372203,
          3.293338137911488,
          3.297066827450773,
          3.300795516990058,
          3.3045242065293436,
          3.3082528960686286,
          3.3119815856079136,
          3.3157102751471994,
          3.3194389646864844,
          3.32316765422577,
          3.326896343765055,
          3.33062503330434,
          3.334353722843626,
          3.338082412382911,
          3.341811101922196,
          3.3455397914614817,
          3.3492684810007667,
          3.3529971705400516,
          3.3567258600793375,
          3.3604545496186224,
          3.3641832391579083,
          3.3679119286971932,
          3.371640618236478,
          3.375369307775764,
          3.379097997315049,
          3.382826686854334,
          3.386555376393619,
          3.3902840659329048,
          3.3940127554721906,
          3.3977414450114756,
          3.4014701345507605,
          3.4051988240900464
         ],
         "yaxis": "y2"
        },
        {
         "mode": "markers",
         "name": "dataset",
         "type": "scatter",
         "uid": "65a1d2fe-a1de-11e8-84a2-d05349f0ce53",
         "x": [
          194.5,
          194.3,
          197.9,
          198.4,
          199.4,
          199.9,
          200.9,
          201.1,
          201.4,
          201.3,
          203.6,
          204.6,
          209.5,
          208.6,
          210.7,
          211.9,
          212.2
         ],
         "y": [
          3.0344721018699214,
          3.0344721018699214,
          3.109060958860994,
          3.1210424645194377,
          3.1419947805322432,
          3.150596984114906,
          3.173459961337718,
          3.177637076851603,
          3.1788868166518376,
          3.178470410233162,
          3.2244602031621015,
          3.279782759771722,
          3.3495531485098167,
          3.3235961356386037,
          3.3686741899565953,
          3.3971893602646164,
          3.4031953843248286
         ]
        }
       ],
       "layout": {
        "legend": {
         "orientation": "h",
         "y": -0.05
        },
        "title": "Gráfico do dataset, modelo linear e respectivo erro",
        "xaxis": {
         "title": "Temperatura de ebulição (°F)",
         "titlefont": {
          "color": "#7f7f7f",
          "family": "Courier New, monospace",
          "size": 18
         }
        },
        "yaxis": {
         "range": [
          2.997599773624431,
          3.440067712570319
         ],
         "title": "Logarítimo da Pressão (polegadas de Hg)",
         "titlefont": {
          "color": "#7f7f7f",
          "family": "Courier New, monospace",
          "size": 18
         }
        },
        "yaxis2": {
         "overlaying": "y",
         "range": [
          2.997599773624431,
          3.440067712570319
         ],
         "side": "left",
         "visible": false
        },
        "yaxis3": {
         "anchor": "x",
         "overlaying": "y",
         "side": "right",
         "title": "Módulo do erro",
         "titlefont": {
          "color": "#7f7f7f",
          "family": "Courier New, monospace",
          "size": 18
         }
        }
       }
      },
      "text/html": [
       "<div id=\"88bcd8e1-0da0-47dc-ae78-f45d462bf00b\" style=\"height: 525px; width: 100%;\" class=\"plotly-graph-div\"></div><script type=\"text/javascript\">require([\"plotly\"], function(Plotly) { window.PLOTLYENV=window.PLOTLYENV || {};window.PLOTLYENV.BASE_URL=\"https://plot.ly\";\n",
       "        Plotly.plot(\n",
       "            '88bcd8e1-0da0-47dc-ae78-f45d462bf00b',\n",
       "            [{\"name\": \"m\\u00f3dulo do erro\", \"x\": [194.5, 194.3, 197.9, 198.4, 199.4, 199.9, 200.9, 201.1, 201.4, 201.3, 203.6, 204.6, 209.5, 208.6, 210.7, 211.9, 212.2], \"y\": [0.005710930058694608, 0.001586457830882182, 0.0012381009404394128, 0.00043222414847265966, 0.0007621790222143154, 0.0009467979646542446, 0.0012938181190937925, 0.0013464614051654777, 0.003590507136319143, 0.0019446774410880607, 0.0033863151319954987, 0.031313880338561084, 3.4699495242929146e-05, 0.007362188350812815, 0.005591092424854782, 0.001822755483710914, 0.0020034397652177738], \"yaxis\": \"y3\", \"type\": \"bar\", \"uid\": \"65a1d2fc-a1de-11e8-84a2-d05349f0ce53\"}, {\"mode\": \"lines\", \"name\": \"modelo linear\", \"x\": [194.3, 194.4808080808081, 194.66161616161617, 194.84242424242424, 195.02323232323232, 195.20404040404043, 195.3848484848485, 195.56565656565658, 195.74646464646466, 195.92727272727274, 196.1080808080808, 196.2888888888889, 196.46969696969697, 196.65050505050505, 196.83131313131315, 197.01212121212123, 197.1929292929293, 197.37373737373738, 197.55454545454546, 197.73535353535354, 197.91616161616162, 198.0969696969697, 198.27777777777777, 198.45858585858588, 198.63939393939395, 198.82020202020203, 199.0010101010101, 199.1818181818182, 199.36262626262626, 199.54343434343434, 199.72424242424242, 199.9050505050505, 200.0858585858586, 200.26666666666668, 200.44747474747476, 200.62828282828283, 200.8090909090909, 200.989898989899, 201.17070707070707, 201.35151515151514, 201.53232323232322, 201.71313131313133, 201.8939393939394, 202.07474747474748, 202.25555555555556, 202.43636363636364, 202.61717171717171, 202.7979797979798, 202.97878787878787, 203.15959595959595, 203.34040404040405, 203.52121212121213, 203.7020202020202, 203.88282828282829, 204.06363636363636, 204.24444444444444, 204.42525252525252, 204.6060606060606, 204.78686868686867, 204.96767676767678, 205.14848484848486, 205.32929292929293, 205.510101010101, 205.6909090909091, 205.87171717171717, 206.05252525252524, 206.23333333333332, 206.4141414141414, 206.5949494949495, 206.77575757575758, 206.95656565656566, 207.13737373737374, 207.3181818181818, 207.4989898989899, 207.67979797979797, 207.86060606060605, 208.04141414141412, 208.22222222222223, 208.4030303030303, 208.58383838383838, 208.76464646464646, 208.94545454545454, 209.12626262626262, 209.3070707070707, 209.48787878787877, 209.66868686868685, 209.84949494949495, 210.03030303030303, 210.2111111111111, 210.3919191919192, 210.57272727272726, 210.75353535353534, 210.93434343434342, 211.1151515151515, 211.29595959595957, 211.47676767676768, 211.65757575757576, 211.83838383838383, 212.0191919191919, 212.2], \"y\": [3.0360585597008036, 3.0397872492400886, 3.0435159387793735, 3.0472446283186594, 3.0509733178579443, 3.05470200739723, 3.058430696936515, 3.0621593864758, 3.065888076015086, 3.069616765554371, 3.073345455093656, 3.0770741446329417, 3.0808028341722267, 3.0845315237115116, 3.0882602132507975, 3.0919889027900824, 3.0957175923293683, 3.0994462818686532, 3.103174971407938, 3.106903660947224, 3.110632350486509, 3.114361040025794, 3.118089729565079, 3.1218184191043648, 3.1255471086436506, 3.1292757981829356, 3.1330044877222205, 3.1367331772615055, 3.1404618668007913, 3.1441905563400763, 3.1479192458793612, 3.151647935418647, 3.155376624957933, 3.159105314497218, 3.162834004036503, 3.166562693575788, 3.1702913831150736, 3.1740200726543586, 3.1777487621936436, 3.1814774517329294, 3.1852061412722144, 3.1889348308115, 3.192663520350785, 3.19639220989007, 3.200120899429356, 3.203849588968641, 3.207578278507926, 3.2113069680472117, 3.2150356575864967, 3.2187643471257816, 3.2224930366650675, 3.2262217262043524, 3.2299504157436383, 3.2336791052829232, 3.237407794822208, 3.241136484361494, 3.244865173900779, 3.248593863440064, 3.252322552979349, 3.2560512425186348, 3.2597799320579206, 3.2635086215972056, 3.2672373111364905, 3.2709660006757764, 3.2746946902150613, 3.2784233797543463, 3.2821520692936312, 3.285880758832917, 3.289609448372203, 3.293338137911488, 3.297066827450773, 3.300795516990058, 3.3045242065293436, 3.3082528960686286, 3.3119815856079136, 3.3157102751471994, 3.3194389646864844, 3.32316765422577, 3.326896343765055, 3.33062503330434, 3.334353722843626, 3.338082412382911, 3.341811101922196, 3.3455397914614817, 3.3492684810007667, 3.3529971705400516, 3.3567258600793375, 3.3604545496186224, 3.3641832391579083, 3.3679119286971932, 3.371640618236478, 3.375369307775764, 3.379097997315049, 3.382826686854334, 3.386555376393619, 3.3902840659329048, 3.3940127554721906, 3.3977414450114756, 3.4014701345507605, 3.4051988240900464], \"yaxis\": \"y2\", \"type\": \"scatter\", \"uid\": \"65a1d2fd-a1de-11e8-84a2-d05349f0ce53\"}, {\"mode\": \"markers\", \"name\": \"dataset\", \"x\": [194.5, 194.3, 197.9, 198.4, 199.4, 199.9, 200.9, 201.1, 201.4, 201.3, 203.6, 204.6, 209.5, 208.6, 210.7, 211.9, 212.2], \"y\": [3.0344721018699214, 3.0344721018699214, 3.109060958860994, 3.1210424645194377, 3.1419947805322432, 3.150596984114906, 3.173459961337718, 3.177637076851603, 3.1788868166518376, 3.178470410233162, 3.2244602031621015, 3.279782759771722, 3.3495531485098167, 3.3235961356386037, 3.3686741899565953, 3.3971893602646164, 3.4031953843248286], \"type\": \"scatter\", \"uid\": \"65a1d2fe-a1de-11e8-84a2-d05349f0ce53\"}],\n",
       "            {\"legend\": {\"orientation\": \"h\", \"y\": -0.05}, \"title\": \"Gr\\u00e1fico do dataset, modelo linear e respectivo erro\", \"xaxis\": {\"title\": \"Temperatura de ebuli\\u00e7\\u00e3o (\\u00b0F)\", \"titlefont\": {\"color\": \"#7f7f7f\", \"family\": \"Courier New, monospace\", \"size\": 18}}, \"yaxis\": {\"range\": [2.997599773624431, 3.440067712570319], \"title\": \"Logar\\u00edtimo da Press\\u00e3o (polegadas de Hg)\", \"titlefont\": {\"color\": \"#7f7f7f\", \"family\": \"Courier New, monospace\", \"size\": 18}}, \"yaxis2\": {\"overlaying\": \"y\", \"range\": [2.997599773624431, 3.440067712570319], \"side\": \"left\", \"visible\": false}, \"yaxis3\": {\"anchor\": \"x\", \"overlaying\": \"y\", \"side\": \"right\", \"title\": \"M\\u00f3dulo do erro\", \"titlefont\": {\"color\": \"#7f7f7f\", \"family\": \"Courier New, monospace\", \"size\": 18}}},\n",
       "            {\"showLink\": true, \"linkText\": \"Export to plot.ly\"}\n",
       "        ).then(function () {return Plotly.addFrames('88bcd8e1-0da0-47dc-ae78-f45d462bf00b',{});}).then(function(){Plotly.animate('88bcd8e1-0da0-47dc-ae78-f45d462bf00b');})\n",
       "        });</script>"
      ],
      "text/vnd.plotly.v1+html": [
       "<div id=\"88bcd8e1-0da0-47dc-ae78-f45d462bf00b\" style=\"height: 525px; width: 100%;\" class=\"plotly-graph-div\"></div><script type=\"text/javascript\">require([\"plotly\"], function(Plotly) { window.PLOTLYENV=window.PLOTLYENV || {};window.PLOTLYENV.BASE_URL=\"https://plot.ly\";\n",
       "        Plotly.plot(\n",
       "            '88bcd8e1-0da0-47dc-ae78-f45d462bf00b',\n",
       "            [{\"name\": \"m\\u00f3dulo do erro\", \"x\": [194.5, 194.3, 197.9, 198.4, 199.4, 199.9, 200.9, 201.1, 201.4, 201.3, 203.6, 204.6, 209.5, 208.6, 210.7, 211.9, 212.2], \"y\": [0.005710930058694608, 0.001586457830882182, 0.0012381009404394128, 0.00043222414847265966, 0.0007621790222143154, 0.0009467979646542446, 0.0012938181190937925, 0.0013464614051654777, 0.003590507136319143, 0.0019446774410880607, 0.0033863151319954987, 0.031313880338561084, 3.4699495242929146e-05, 0.007362188350812815, 0.005591092424854782, 0.001822755483710914, 0.0020034397652177738], \"yaxis\": \"y3\", \"type\": \"bar\", \"uid\": \"65a1d2fc-a1de-11e8-84a2-d05349f0ce53\"}, {\"mode\": \"lines\", \"name\": \"modelo linear\", \"x\": [194.3, 194.4808080808081, 194.66161616161617, 194.84242424242424, 195.02323232323232, 195.20404040404043, 195.3848484848485, 195.56565656565658, 195.74646464646466, 195.92727272727274, 196.1080808080808, 196.2888888888889, 196.46969696969697, 196.65050505050505, 196.83131313131315, 197.01212121212123, 197.1929292929293, 197.37373737373738, 197.55454545454546, 197.73535353535354, 197.91616161616162, 198.0969696969697, 198.27777777777777, 198.45858585858588, 198.63939393939395, 198.82020202020203, 199.0010101010101, 199.1818181818182, 199.36262626262626, 199.54343434343434, 199.72424242424242, 199.9050505050505, 200.0858585858586, 200.26666666666668, 200.44747474747476, 200.62828282828283, 200.8090909090909, 200.989898989899, 201.17070707070707, 201.35151515151514, 201.53232323232322, 201.71313131313133, 201.8939393939394, 202.07474747474748, 202.25555555555556, 202.43636363636364, 202.61717171717171, 202.7979797979798, 202.97878787878787, 203.15959595959595, 203.34040404040405, 203.52121212121213, 203.7020202020202, 203.88282828282829, 204.06363636363636, 204.24444444444444, 204.42525252525252, 204.6060606060606, 204.78686868686867, 204.96767676767678, 205.14848484848486, 205.32929292929293, 205.510101010101, 205.6909090909091, 205.87171717171717, 206.05252525252524, 206.23333333333332, 206.4141414141414, 206.5949494949495, 206.77575757575758, 206.95656565656566, 207.13737373737374, 207.3181818181818, 207.4989898989899, 207.67979797979797, 207.86060606060605, 208.04141414141412, 208.22222222222223, 208.4030303030303, 208.58383838383838, 208.76464646464646, 208.94545454545454, 209.12626262626262, 209.3070707070707, 209.48787878787877, 209.66868686868685, 209.84949494949495, 210.03030303030303, 210.2111111111111, 210.3919191919192, 210.57272727272726, 210.75353535353534, 210.93434343434342, 211.1151515151515, 211.29595959595957, 211.47676767676768, 211.65757575757576, 211.83838383838383, 212.0191919191919, 212.2], \"y\": [3.0360585597008036, 3.0397872492400886, 3.0435159387793735, 3.0472446283186594, 3.0509733178579443, 3.05470200739723, 3.058430696936515, 3.0621593864758, 3.065888076015086, 3.069616765554371, 3.073345455093656, 3.0770741446329417, 3.0808028341722267, 3.0845315237115116, 3.0882602132507975, 3.0919889027900824, 3.0957175923293683, 3.0994462818686532, 3.103174971407938, 3.106903660947224, 3.110632350486509, 3.114361040025794, 3.118089729565079, 3.1218184191043648, 3.1255471086436506, 3.1292757981829356, 3.1330044877222205, 3.1367331772615055, 3.1404618668007913, 3.1441905563400763, 3.1479192458793612, 3.151647935418647, 3.155376624957933, 3.159105314497218, 3.162834004036503, 3.166562693575788, 3.1702913831150736, 3.1740200726543586, 3.1777487621936436, 3.1814774517329294, 3.1852061412722144, 3.1889348308115, 3.192663520350785, 3.19639220989007, 3.200120899429356, 3.203849588968641, 3.207578278507926, 3.2113069680472117, 3.2150356575864967, 3.2187643471257816, 3.2224930366650675, 3.2262217262043524, 3.2299504157436383, 3.2336791052829232, 3.237407794822208, 3.241136484361494, 3.244865173900779, 3.248593863440064, 3.252322552979349, 3.2560512425186348, 3.2597799320579206, 3.2635086215972056, 3.2672373111364905, 3.2709660006757764, 3.2746946902150613, 3.2784233797543463, 3.2821520692936312, 3.285880758832917, 3.289609448372203, 3.293338137911488, 3.297066827450773, 3.300795516990058, 3.3045242065293436, 3.3082528960686286, 3.3119815856079136, 3.3157102751471994, 3.3194389646864844, 3.32316765422577, 3.326896343765055, 3.33062503330434, 3.334353722843626, 3.338082412382911, 3.341811101922196, 3.3455397914614817, 3.3492684810007667, 3.3529971705400516, 3.3567258600793375, 3.3604545496186224, 3.3641832391579083, 3.3679119286971932, 3.371640618236478, 3.375369307775764, 3.379097997315049, 3.382826686854334, 3.386555376393619, 3.3902840659329048, 3.3940127554721906, 3.3977414450114756, 3.4014701345507605, 3.4051988240900464], \"yaxis\": \"y2\", \"type\": \"scatter\", \"uid\": \"65a1d2fd-a1de-11e8-84a2-d05349f0ce53\"}, {\"mode\": \"markers\", \"name\": \"dataset\", \"x\": [194.5, 194.3, 197.9, 198.4, 199.4, 199.9, 200.9, 201.1, 201.4, 201.3, 203.6, 204.6, 209.5, 208.6, 210.7, 211.9, 212.2], \"y\": [3.0344721018699214, 3.0344721018699214, 3.109060958860994, 3.1210424645194377, 3.1419947805322432, 3.150596984114906, 3.173459961337718, 3.177637076851603, 3.1788868166518376, 3.178470410233162, 3.2244602031621015, 3.279782759771722, 3.3495531485098167, 3.3235961356386037, 3.3686741899565953, 3.3971893602646164, 3.4031953843248286], \"type\": \"scatter\", \"uid\": \"65a1d2fe-a1de-11e8-84a2-d05349f0ce53\"}],\n",
       "            {\"legend\": {\"orientation\": \"h\", \"y\": -0.05}, \"title\": \"Gr\\u00e1fico do dataset, modelo linear e respectivo erro\", \"xaxis\": {\"title\": \"Temperatura de ebuli\\u00e7\\u00e3o (\\u00b0F)\", \"titlefont\": {\"color\": \"#7f7f7f\", \"family\": \"Courier New, monospace\", \"size\": 18}}, \"yaxis\": {\"range\": [2.997599773624431, 3.440067712570319], \"title\": \"Logar\\u00edtimo da Press\\u00e3o (polegadas de Hg)\", \"titlefont\": {\"color\": \"#7f7f7f\", \"family\": \"Courier New, monospace\", \"size\": 18}}, \"yaxis2\": {\"overlaying\": \"y\", \"range\": [2.997599773624431, 3.440067712570319], \"side\": \"left\", \"visible\": false}, \"yaxis3\": {\"anchor\": \"x\", \"overlaying\": \"y\", \"side\": \"right\", \"title\": \"M\\u00f3dulo do erro\", \"titlefont\": {\"color\": \"#7f7f7f\", \"family\": \"Courier New, monospace\", \"size\": 18}}},\n",
       "            {\"showLink\": true, \"linkText\": \"Export to plot.ly\"}\n",
       "        ).then(function () {return Plotly.addFrames('88bcd8e1-0da0-47dc-ae78-f45d462bf00b',{});}).then(function(){Plotly.animate('88bcd8e1-0da0-47dc-ae78-f45d462bf00b');})\n",
       "        });</script>"
      ]
     },
     "metadata": {},
     "output_type": "display_data"
    },
    {
     "data": {
      "application/vnd.plotly.v1+json": {
       "data": [
        {
         "histnorm": "probability density",
         "type": "histogram",
         "uid": "65a1d2ff-a1de-11e8-84a2-d05349f0ce53",
         "x": [
          -0.005710930058694608,
          -0.001586457830882182,
          -0.0012381009404394128,
          0.00043222414847265966,
          0.0007621790222143154,
          -0.0009467979646542446,
          0.0012938181190937925,
          0.0013464614051654777,
          -0.003590507136319143,
          -0.0019446774410880607,
          -0.0033863151319954987,
          0.031313880338561084,
          3.4699495242929146e-05,
          -0.007362188350812815,
          -0.005591092424854782,
          -0.001822755483710914,
          -0.0020034397652177738
         ]
        }
       ],
       "layout": {
        "title": "Histograma dos resíduos",
        "xaxis": {
         "title": "Valor do erro",
         "titlefont": {
          "color": "#7f7f7f",
          "family": "Courier New, monospace",
          "size": 18
         }
        },
        "yaxis": {
         "title": "Densidade de probabilidade",
         "titlefont": {
          "color": "#7f7f7f",
          "family": "Courier New, monospace",
          "size": 18
         }
        }
       }
      },
      "text/html": [
       "<div id=\"0862a4fa-7842-419d-93f4-1a1eb9672732\" style=\"height: 525px; width: 100%;\" class=\"plotly-graph-div\"></div><script type=\"text/javascript\">require([\"plotly\"], function(Plotly) { window.PLOTLYENV=window.PLOTLYENV || {};window.PLOTLYENV.BASE_URL=\"https://plot.ly\";\n",
       "        Plotly.plot(\n",
       "            '0862a4fa-7842-419d-93f4-1a1eb9672732',\n",
       "            [{\"histnorm\": \"probability density\", \"x\": [-0.005710930058694608, -0.001586457830882182, -0.0012381009404394128, 0.00043222414847265966, 0.0007621790222143154, -0.0009467979646542446, 0.0012938181190937925, 0.0013464614051654777, -0.003590507136319143, -0.0019446774410880607, -0.0033863151319954987, 0.031313880338561084, 3.4699495242929146e-05, -0.007362188350812815, -0.005591092424854782, -0.001822755483710914, -0.0020034397652177738], \"type\": \"histogram\", \"uid\": \"65a1d2ff-a1de-11e8-84a2-d05349f0ce53\"}],\n",
       "            {\"title\": \"Histograma dos res\\u00edduos\", \"xaxis\": {\"title\": \"Valor do erro\", \"titlefont\": {\"color\": \"#7f7f7f\", \"family\": \"Courier New, monospace\", \"size\": 18}}, \"yaxis\": {\"title\": \"Densidade de probabilidade\", \"titlefont\": {\"color\": \"#7f7f7f\", \"family\": \"Courier New, monospace\", \"size\": 18}}},\n",
       "            {\"showLink\": true, \"linkText\": \"Export to plot.ly\"}\n",
       "        ).then(function () {return Plotly.addFrames('0862a4fa-7842-419d-93f4-1a1eb9672732',{});}).then(function(){Plotly.animate('0862a4fa-7842-419d-93f4-1a1eb9672732');})\n",
       "        });</script>"
      ],
      "text/vnd.plotly.v1+html": [
       "<div id=\"0862a4fa-7842-419d-93f4-1a1eb9672732\" style=\"height: 525px; width: 100%;\" class=\"plotly-graph-div\"></div><script type=\"text/javascript\">require([\"plotly\"], function(Plotly) { window.PLOTLYENV=window.PLOTLYENV || {};window.PLOTLYENV.BASE_URL=\"https://plot.ly\";\n",
       "        Plotly.plot(\n",
       "            '0862a4fa-7842-419d-93f4-1a1eb9672732',\n",
       "            [{\"histnorm\": \"probability density\", \"x\": [-0.005710930058694608, -0.001586457830882182, -0.0012381009404394128, 0.00043222414847265966, 0.0007621790222143154, -0.0009467979646542446, 0.0012938181190937925, 0.0013464614051654777, -0.003590507136319143, -0.0019446774410880607, -0.0033863151319954987, 0.031313880338561084, 3.4699495242929146e-05, -0.007362188350812815, -0.005591092424854782, -0.001822755483710914, -0.0020034397652177738], \"type\": \"histogram\", \"uid\": \"65a1d2ff-a1de-11e8-84a2-d05349f0ce53\"}],\n",
       "            {\"title\": \"Histograma dos res\\u00edduos\", \"xaxis\": {\"title\": \"Valor do erro\", \"titlefont\": {\"color\": \"#7f7f7f\", \"family\": \"Courier New, monospace\", \"size\": 18}}, \"yaxis\": {\"title\": \"Densidade de probabilidade\", \"titlefont\": {\"color\": \"#7f7f7f\", \"family\": \"Courier New, monospace\", \"size\": 18}}},\n",
       "            {\"showLink\": true, \"linkText\": \"Export to plot.ly\"}\n",
       "        ).then(function () {return Plotly.addFrames('0862a4fa-7842-419d-93f4-1a1eb9672732',{});}).then(function(){Plotly.animate('0862a4fa-7842-419d-93f4-1a1eb9672732');})\n",
       "        });</script>"
      ]
     },
     "metadata": {},
     "output_type": "display_data"
    },
    {
     "data": {
      "application/vnd.plotly.v1+json": {
       "data": [
        {
         "boxmean": "sd",
         "boxpoints": "all",
         "jitter": 0.3,
         "pointpos": -1.8,
         "type": "box",
         "uid": "65a1d300-a1de-11e8-84a2-d05349f0ce53",
         "y": [
          -0.005710930058694608,
          -0.001586457830882182,
          -0.0012381009404394128,
          0.00043222414847265966,
          0.0007621790222143154,
          -0.0009467979646542446,
          0.0012938181190937925,
          0.0013464614051654777,
          -0.003590507136319143,
          -0.0019446774410880607,
          -0.0033863151319954987,
          0.031313880338561084,
          3.4699495242929146e-05,
          -0.007362188350812815,
          -0.005591092424854782,
          -0.001822755483710914,
          -0.0020034397652177738
         ]
        }
       ],
       "layout": {
        "title": "Boxplot dos resíduos"
       }
      },
      "text/html": [
       "<div id=\"1da08517-221f-41c0-b88c-944d686b3f02\" style=\"height: 525px; width: 100%;\" class=\"plotly-graph-div\"></div><script type=\"text/javascript\">require([\"plotly\"], function(Plotly) { window.PLOTLYENV=window.PLOTLYENV || {};window.PLOTLYENV.BASE_URL=\"https://plot.ly\";\n",
       "        Plotly.plot(\n",
       "            '1da08517-221f-41c0-b88c-944d686b3f02',\n",
       "            [{\"boxmean\": \"sd\", \"boxpoints\": \"all\", \"jitter\": 0.3, \"pointpos\": -1.8, \"y\": [-0.005710930058694608, -0.001586457830882182, -0.0012381009404394128, 0.00043222414847265966, 0.0007621790222143154, -0.0009467979646542446, 0.0012938181190937925, 0.0013464614051654777, -0.003590507136319143, -0.0019446774410880607, -0.0033863151319954987, 0.031313880338561084, 3.4699495242929146e-05, -0.007362188350812815, -0.005591092424854782, -0.001822755483710914, -0.0020034397652177738], \"type\": \"box\", \"uid\": \"65a1d300-a1de-11e8-84a2-d05349f0ce53\"}],\n",
       "            {\"title\": \"Boxplot dos res\\u00edduos\"},\n",
       "            {\"showLink\": true, \"linkText\": \"Export to plot.ly\"}\n",
       "        ).then(function () {return Plotly.addFrames('1da08517-221f-41c0-b88c-944d686b3f02',{});}).then(function(){Plotly.animate('1da08517-221f-41c0-b88c-944d686b3f02');})\n",
       "        });</script>"
      ],
      "text/vnd.plotly.v1+html": [
       "<div id=\"1da08517-221f-41c0-b88c-944d686b3f02\" style=\"height: 525px; width: 100%;\" class=\"plotly-graph-div\"></div><script type=\"text/javascript\">require([\"plotly\"], function(Plotly) { window.PLOTLYENV=window.PLOTLYENV || {};window.PLOTLYENV.BASE_URL=\"https://plot.ly\";\n",
       "        Plotly.plot(\n",
       "            '1da08517-221f-41c0-b88c-944d686b3f02',\n",
       "            [{\"boxmean\": \"sd\", \"boxpoints\": \"all\", \"jitter\": 0.3, \"pointpos\": -1.8, \"y\": [-0.005710930058694608, -0.001586457830882182, -0.0012381009404394128, 0.00043222414847265966, 0.0007621790222143154, -0.0009467979646542446, 0.0012938181190937925, 0.0013464614051654777, -0.003590507136319143, -0.0019446774410880607, -0.0033863151319954987, 0.031313880338561084, 3.4699495242929146e-05, -0.007362188350812815, -0.005591092424854782, -0.001822755483710914, -0.0020034397652177738], \"type\": \"box\", \"uid\": \"65a1d300-a1de-11e8-84a2-d05349f0ce53\"}],\n",
       "            {\"title\": \"Boxplot dos res\\u00edduos\"},\n",
       "            {\"showLink\": true, \"linkText\": \"Export to plot.ly\"}\n",
       "        ).then(function () {return Plotly.addFrames('1da08517-221f-41c0-b88c-944d686b3f02',{});}).then(function(){Plotly.animate('1da08517-221f-41c0-b88c-944d686b3f02');})\n",
       "        });</script>"
      ]
     },
     "metadata": {},
     "output_type": "display_data"
    },
    {
     "data": {
      "text/html": [
       "<div>\n",
       "<style scoped>\n",
       "    .dataframe tbody tr th:only-of-type {\n",
       "        vertical-align: middle;\n",
       "    }\n",
       "\n",
       "    .dataframe tbody tr th {\n",
       "        vertical-align: top;\n",
       "    }\n",
       "\n",
       "    .dataframe thead th {\n",
       "        text-align: right;\n",
       "    }\n",
       "</style>\n",
       "<table border=\"1\" class=\"dataframe\">\n",
       "  <thead>\n",
       "    <tr style=\"text-align: right;\">\n",
       "      <th></th>\n",
       "      <th>Parâmetros da regressão</th>\n",
       "      <th>R²</th>\n",
       "      <th>Var(e)</th>\n",
       "      <th>SW P-value</th>\n",
       "    </tr>\n",
       "  </thead>\n",
       "  <tbody>\n",
       "    <tr>\n",
       "      <th>0</th>\n",
       "      <td>[0.020622361139063856, -0.9708662096193041]</td>\n",
       "      <td>0.994961</td>\n",
       "      <td>0.000071</td>\n",
       "      <td>0.000003</td>\n",
       "    </tr>\n",
       "  </tbody>\n",
       "</table>\n",
       "</div>"
      ],
      "text/plain": [
       "                       Parâmetros da regressão        R²    Var(e)  SW P-value\n",
       "0  [0.020622361139063856, -0.9708662096193041]  0.994961  0.000071    0.000003"
      ]
     },
     "execution_count": 21,
     "metadata": {},
     "output_type": "execute_result"
    }
   ],
   "source": [
    "dfD = regressionAnalysis(x, y)\n",
    "dfD"
   ]
  },
  {
   "cell_type": "markdown",
   "metadata": {},
   "source": [
    "Analogamente ao modelo linear do `tópico 1.2` a regressão apresentou:\n",
    "  * Alto valor de $R^2$;\n",
    "  * Rejeição da hipótese de normalidade a partir do teste de Shapiro-Wilk.\n",
    "\n",
    "Comparando os dois modelos:"
   ]
  },
  {
   "cell_type": "code",
   "execution_count": 23,
   "metadata": {},
   "outputs": [
    {
     "data": {
      "text/html": [
       "<div>\n",
       "<style scoped>\n",
       "    .dataframe tbody tr th:only-of-type {\n",
       "        vertical-align: middle;\n",
       "    }\n",
       "\n",
       "    .dataframe tbody tr th {\n",
       "        vertical-align: top;\n",
       "    }\n",
       "\n",
       "    .dataframe thead th {\n",
       "        text-align: right;\n",
       "    }\n",
       "</style>\n",
       "<table border=\"1\" class=\"dataframe\">\n",
       "  <thead>\n",
       "    <tr style=\"text-align: right;\">\n",
       "      <th></th>\n",
       "      <th>Parâmetros da regressão</th>\n",
       "      <th>R²</th>\n",
       "      <th>Var(e)</th>\n",
       "      <th>SW P-value</th>\n",
       "    </tr>\n",
       "  </thead>\n",
       "  <tbody>\n",
       "    <tr>\n",
       "      <th>Modelo original</th>\n",
       "      <td>[0.5228924007846376, -81.0637271286563]</td>\n",
       "      <td>0.994428</td>\n",
       "      <td>0.050821</td>\n",
       "      <td>0.023949</td>\n",
       "    </tr>\n",
       "    <tr>\n",
       "      <th>Modelo com log(p)</th>\n",
       "      <td>[0.020622361139063856, -0.9708662096193041]</td>\n",
       "      <td>0.994961</td>\n",
       "      <td>0.000071</td>\n",
       "      <td>0.000003</td>\n",
       "    </tr>\n",
       "  </tbody>\n",
       "</table>\n",
       "</div>"
      ],
      "text/plain": [
       "                                       Parâmetros da regressão        R²  \\\n",
       "Modelo original        [0.5228924007846376, -81.0637271286563]  0.994428   \n",
       "Modelo com log(p)  [0.020622361139063856, -0.9708662096193041]  0.994961   \n",
       "\n",
       "                     Var(e)  SW P-value  \n",
       "Modelo original    0.050821    0.023949  \n",
       "Modelo com log(p)  0.000071    0.000003  "
      ]
     },
     "execution_count": 23,
     "metadata": {},
     "output_type": "execute_result"
    }
   ],
   "source": [
    "compBeD = pd.concat([dfB, dfD])\n",
    "compBeD.index = [\"Modelo original\", \"Modelo com log(p)\"]\n",
    "compBeD"
   ]
  },
  {
   "cell_type": "markdown",
   "metadata": {},
   "source": [
    "Percebe-se que o modelo logarítmico apresentou um valor de $R^2$ levemente mais alto, mas igualmente teve a hipótese de normalidade dos resíduos rejeitada. Apesar da variância dos resíduos apresentar dessa vez um valor muito baixo não é sensato compará-lo com o modelo anterior devido à mudança de escala das medidas, com pressões agora em escala logarítmica."
   ]
  },
  {
   "cell_type": "markdown",
   "metadata": {},
   "source": [
    "Novamente o outlier foi identificado, retirado e o estudo refeito."
   ]
  },
  {
   "cell_type": "code",
   "execution_count": 24,
   "metadata": {},
   "outputs": [
    {
     "name": "stdout",
     "output_type": "stream",
     "text": [
      "Outlier:\n",
      "Ponto: (204.6, 3.279782759771722) \n",
      "Valor do erro: 0.031313880338561084 \n",
      "Distância: 3.7043665949927687 desvios-padrões\n"
     ]
    }
   ],
   "source": [
    "error_vec = errorVector(x,y,ols(x,y))      # vetor de erros\n",
    "index = np.argmax(np.absolute(error_vec))  # índice do outlier\n",
    "erro_outlier = max(np.absolute(error_vec)) # valor do erro do outlier\n",
    "distancia = (erro_outlier - np.mean(error_vec)) / np.sqrt(variance(error_vec))\n",
    "\n",
    "print(\"Outlier:\\nPonto: ({}, {}) \\nValor do erro: {} \\nDistância: {} desvios-padrões\"\n",
    "      .format(x['valores'][index], y['valores'][index], erro_outlier, distancia))"
   ]
  },
  {
   "cell_type": "code",
   "execution_count": 25,
   "metadata": {},
   "outputs": [
    {
     "data": {
      "application/vnd.plotly.v1+json": {
       "data": [
        {
         "name": "módulo do erro",
         "type": "bar",
         "uid": "7b42eaba-a1de-11e8-84a2-d05349f0ce53",
         "x": [
          194.5,
          194.3,
          197.9,
          198.4,
          199.4,
          199.9,
          200.9,
          201.1,
          201.4,
          201.3,
          203.6,
          209.5,
          208.6,
          210.7,
          211.9,
          212.2
         ],
         "y": [
          0.004620594269773903,
          0.0005168832810569235,
          0.00020517591310431627,
          0.0019274040997552255,
          0.002361165168973667,
          0.0007040912798439436,
          0.003048513559068766,
          0.0031219180842372296,
          0.0017839085986044445,
          0.00014845952292130704,
          0.0013513429642304509,
          0.0026821282163242977,
          0.004808185205661175,
          0.002819096269200738,
          0.0010738081065158056,
          0.0009242656836527807
         ],
         "yaxis": "y3"
        },
        {
         "mode": "lines",
         "name": "modelo linear",
         "type": "scatter",
         "uid": "7b42eabb-a1de-11e8-84a2-d05349f0ce53",
         "x": [
          194.3,
          194.4808080808081,
          194.66161616161617,
          194.84242424242424,
          195.02323232323232,
          195.20404040404043,
          195.3848484848485,
          195.56565656565658,
          195.74646464646466,
          195.92727272727274,
          196.1080808080808,
          196.2888888888889,
          196.46969696969697,
          196.65050505050505,
          196.83131313131315,
          197.01212121212123,
          197.1929292929293,
          197.37373737373738,
          197.55454545454546,
          197.73535353535354,
          197.91616161616162,
          198.0969696969697,
          198.27777777777777,
          198.45858585858588,
          198.63939393939395,
          198.82020202020203,
          199.0010101010101,
          199.1818181818182,
          199.36262626262626,
          199.54343434343434,
          199.72424242424242,
          199.9050505050505,
          200.0858585858586,
          200.26666666666668,
          200.44747474747476,
          200.62828282828283,
          200.8090909090909,
          200.989898989899,
          201.17070707070707,
          201.35151515151514,
          201.53232323232322,
          201.71313131313133,
          201.8939393939394,
          202.07474747474748,
          202.25555555555556,
          202.43636363636364,
          202.61717171717171,
          202.7979797979798,
          202.97878787878787,
          203.15959595959595,
          203.34040404040405,
          203.52121212121213,
          203.7020202020202,
          203.88282828282829,
          204.06363636363636,
          204.24444444444444,
          204.42525252525252,
          204.6060606060606,
          204.78686868686867,
          204.96767676767678,
          205.14848484848486,
          205.32929292929293,
          205.510101010101,
          205.6909090909091,
          205.87171717171717,
          206.05252525252524,
          206.23333333333332,
          206.4141414141414,
          206.5949494949495,
          206.77575757575758,
          206.95656565656566,
          207.13737373737374,
          207.3181818181818,
          207.4989898989899,
          207.67979797979797,
          207.86060606060605,
          208.04141414141412,
          208.22222222222223,
          208.4030303030303,
          208.58383838383838,
          208.76464646464646,
          208.94545454545454,
          209.12626262626262,
          209.3070707070707,
          209.48787878787877,
          209.66868686868685,
          209.84949494949495,
          210.03030303030303,
          210.2111111111111,
          210.3919191919192,
          210.57272727272726,
          210.75353535353534,
          210.93434343434342,
          211.1151515151515,
          211.29595959595957,
          211.47676767676768,
          211.65757575757576,
          211.83838383838383,
          212.0191919191919,
          212.2
         ],
         "y": [
          3.0349889851509784,
          3.0386989056912834,
          3.0424088262315885,
          3.046118746771893,
          3.049828667312198,
          3.053538587852504,
          3.057248508392809,
          3.0609584289331133,
          3.0646683494734184,
          3.0683782700137234,
          3.0720881905540285,
          3.0757981110943335,
          3.0795080316346386,
          3.0832179521749437,
          3.0869278727152487,
          3.0906377932555538,
          3.094347713795859,
          3.098057634336164,
          3.101767554876469,
          3.105477475416774,
          3.109187395957079,
          3.112897316497384,
          3.1166072370376883,
          3.120317157577994,
          3.1240270781182993,
          3.1277369986586043,
          3.1314469191989094,
          3.1351568397392144,
          3.1388667602795186,
          3.1425766808198237,
          3.1462866013601287,
          3.1499965219004338,
          3.1537064424407397,
          3.1574163629810448,
          3.161126283521349,
          3.164836204061654,
          3.168546124601959,
          3.172256045142264,
          3.175965965682569,
          3.1796758862228742,
          3.1833858067631793,
          3.1870957273034843,
          3.1908056478437894,
          3.1945155683840945,
          3.1982254889243995,
          3.2019354094647046,
          3.2056453300050096,
          3.2093552505453147,
          3.2130651710856197,
          3.216775091625924,
          3.22048501216623,
          3.224194932706535,
          3.22790485324684,
          3.231614773787145,
          3.23532469432745,
          3.2390346148677542,
          3.2427445354080593,
          3.2464544559483643,
          3.2501643764886694,
          3.2538742970289753,
          3.2575842175692804,
          3.2612941381095846,
          3.2650040586498896,
          3.2687139791901947,
          3.2724238997304997,
          3.276133820270805,
          3.27984374081111,
          3.283553661351415,
          3.28726358189172,
          3.290973502432025,
          3.29468342297233,
          3.298393343512635,
          3.30210326405294,
          3.3058131845932452,
          3.3095231051335503,
          3.3132330256738554,
          3.3169429462141595,
          3.3206528667544655,
          3.3243627872947705,
          3.3280727078350756,
          3.3317826283753806,
          3.3354925489156857,
          3.33920246945599,
          3.342912389996295,
          3.3466223105366,
          3.350332231076905,
          3.354042151617211,
          3.357752072157516,
          3.36146199269782,
          3.3651719132381253,
          3.3688818337784303,
          3.3725917543187354,
          3.3763016748590404,
          3.3800115953993455,
          3.3837215159396505,
          3.3874314364799556,
          3.3911413570202606,
          3.3948512775605657,
          3.3985611981008708,
          3.402271118641176
         ],
         "yaxis": "y2"
        },
        {
         "mode": "markers",
         "name": "dataset",
         "type": "scatter",
         "uid": "7b42eabc-a1de-11e8-84a2-d05349f0ce53",
         "x": [
          194.5,
          194.3,
          197.9,
          198.4,
          199.4,
          199.9,
          200.9,
          201.1,
          201.4,
          201.3,
          203.6,
          209.5,
          208.6,
          210.7,
          211.9,
          212.2
         ],
         "y": [
          3.0344721018699214,
          3.0344721018699214,
          3.109060958860994,
          3.1210424645194377,
          3.1419947805322432,
          3.150596984114906,
          3.173459961337718,
          3.177637076851603,
          3.1788868166518376,
          3.178470410233162,
          3.2244602031621015,
          3.3495531485098167,
          3.3235961356386037,
          3.3686741899565953,
          3.3971893602646164,
          3.4031953843248286
         ]
        }
       ],
       "layout": {
        "legend": {
         "orientation": "h",
         "y": -0.05
        },
        "title": "Gráfico do dataset, modelo linear e respectivo erro",
        "xaxis": {
         "title": "Temperatura de ebulição (°F)",
         "titlefont": {
          "color": "#7f7f7f",
          "family": "Courier New, monospace",
          "size": 18
         }
        },
        "yaxis": {
         "range": [
          2.997599773624431,
          3.440067712570319
         ],
         "title": "Logarítimo da Pressão (polegadas de Hg)",
         "titlefont": {
          "color": "#7f7f7f",
          "family": "Courier New, monospace",
          "size": 18
         }
        },
        "yaxis2": {
         "overlaying": "y",
         "range": [
          2.997599773624431,
          3.440067712570319
         ],
         "side": "left",
         "visible": false
        },
        "yaxis3": {
         "anchor": "x",
         "overlaying": "y",
         "side": "right",
         "title": "Módulo do erro",
         "titlefont": {
          "color": "#7f7f7f",
          "family": "Courier New, monospace",
          "size": 18
         }
        }
       }
      },
      "text/html": [
       "<div id=\"ab5ac1ab-7338-4a2e-9e09-46e21f43c0e9\" style=\"height: 525px; width: 100%;\" class=\"plotly-graph-div\"></div><script type=\"text/javascript\">require([\"plotly\"], function(Plotly) { window.PLOTLYENV=window.PLOTLYENV || {};window.PLOTLYENV.BASE_URL=\"https://plot.ly\";\n",
       "        Plotly.plot(\n",
       "            'ab5ac1ab-7338-4a2e-9e09-46e21f43c0e9',\n",
       "            [{\"name\": \"m\\u00f3dulo do erro\", \"x\": [194.5, 194.3, 197.9, 198.4, 199.4, 199.9, 200.9, 201.1, 201.4, 201.3, 203.6, 209.5, 208.6, 210.7, 211.9, 212.2], \"y\": [0.004620594269773903, 0.0005168832810569235, 0.00020517591310431627, 0.0019274040997552255, 0.002361165168973667, 0.0007040912798439436, 0.003048513559068766, 0.0031219180842372296, 0.0017839085986044445, 0.00014845952292130704, 0.0013513429642304509, 0.0026821282163242977, 0.004808185205661175, 0.002819096269200738, 0.0010738081065158056, 0.0009242656836527807], \"yaxis\": \"y3\", \"type\": \"bar\", \"uid\": \"7b42eaba-a1de-11e8-84a2-d05349f0ce53\"}, {\"mode\": \"lines\", \"name\": \"modelo linear\", \"x\": [194.3, 194.4808080808081, 194.66161616161617, 194.84242424242424, 195.02323232323232, 195.20404040404043, 195.3848484848485, 195.56565656565658, 195.74646464646466, 195.92727272727274, 196.1080808080808, 196.2888888888889, 196.46969696969697, 196.65050505050505, 196.83131313131315, 197.01212121212123, 197.1929292929293, 197.37373737373738, 197.55454545454546, 197.73535353535354, 197.91616161616162, 198.0969696969697, 198.27777777777777, 198.45858585858588, 198.63939393939395, 198.82020202020203, 199.0010101010101, 199.1818181818182, 199.36262626262626, 199.54343434343434, 199.72424242424242, 199.9050505050505, 200.0858585858586, 200.26666666666668, 200.44747474747476, 200.62828282828283, 200.8090909090909, 200.989898989899, 201.17070707070707, 201.35151515151514, 201.53232323232322, 201.71313131313133, 201.8939393939394, 202.07474747474748, 202.25555555555556, 202.43636363636364, 202.61717171717171, 202.7979797979798, 202.97878787878787, 203.15959595959595, 203.34040404040405, 203.52121212121213, 203.7020202020202, 203.88282828282829, 204.06363636363636, 204.24444444444444, 204.42525252525252, 204.6060606060606, 204.78686868686867, 204.96767676767678, 205.14848484848486, 205.32929292929293, 205.510101010101, 205.6909090909091, 205.87171717171717, 206.05252525252524, 206.23333333333332, 206.4141414141414, 206.5949494949495, 206.77575757575758, 206.95656565656566, 207.13737373737374, 207.3181818181818, 207.4989898989899, 207.67979797979797, 207.86060606060605, 208.04141414141412, 208.22222222222223, 208.4030303030303, 208.58383838383838, 208.76464646464646, 208.94545454545454, 209.12626262626262, 209.3070707070707, 209.48787878787877, 209.66868686868685, 209.84949494949495, 210.03030303030303, 210.2111111111111, 210.3919191919192, 210.57272727272726, 210.75353535353534, 210.93434343434342, 211.1151515151515, 211.29595959595957, 211.47676767676768, 211.65757575757576, 211.83838383838383, 212.0191919191919, 212.2], \"y\": [3.0349889851509784, 3.0386989056912834, 3.0424088262315885, 3.046118746771893, 3.049828667312198, 3.053538587852504, 3.057248508392809, 3.0609584289331133, 3.0646683494734184, 3.0683782700137234, 3.0720881905540285, 3.0757981110943335, 3.0795080316346386, 3.0832179521749437, 3.0869278727152487, 3.0906377932555538, 3.094347713795859, 3.098057634336164, 3.101767554876469, 3.105477475416774, 3.109187395957079, 3.112897316497384, 3.1166072370376883, 3.120317157577994, 3.1240270781182993, 3.1277369986586043, 3.1314469191989094, 3.1351568397392144, 3.1388667602795186, 3.1425766808198237, 3.1462866013601287, 3.1499965219004338, 3.1537064424407397, 3.1574163629810448, 3.161126283521349, 3.164836204061654, 3.168546124601959, 3.172256045142264, 3.175965965682569, 3.1796758862228742, 3.1833858067631793, 3.1870957273034843, 3.1908056478437894, 3.1945155683840945, 3.1982254889243995, 3.2019354094647046, 3.2056453300050096, 3.2093552505453147, 3.2130651710856197, 3.216775091625924, 3.22048501216623, 3.224194932706535, 3.22790485324684, 3.231614773787145, 3.23532469432745, 3.2390346148677542, 3.2427445354080593, 3.2464544559483643, 3.2501643764886694, 3.2538742970289753, 3.2575842175692804, 3.2612941381095846, 3.2650040586498896, 3.2687139791901947, 3.2724238997304997, 3.276133820270805, 3.27984374081111, 3.283553661351415, 3.28726358189172, 3.290973502432025, 3.29468342297233, 3.298393343512635, 3.30210326405294, 3.3058131845932452, 3.3095231051335503, 3.3132330256738554, 3.3169429462141595, 3.3206528667544655, 3.3243627872947705, 3.3280727078350756, 3.3317826283753806, 3.3354925489156857, 3.33920246945599, 3.342912389996295, 3.3466223105366, 3.350332231076905, 3.354042151617211, 3.357752072157516, 3.36146199269782, 3.3651719132381253, 3.3688818337784303, 3.3725917543187354, 3.3763016748590404, 3.3800115953993455, 3.3837215159396505, 3.3874314364799556, 3.3911413570202606, 3.3948512775605657, 3.3985611981008708, 3.402271118641176], \"yaxis\": \"y2\", \"type\": \"scatter\", \"uid\": \"7b42eabb-a1de-11e8-84a2-d05349f0ce53\"}, {\"mode\": \"markers\", \"name\": \"dataset\", \"x\": [194.5, 194.3, 197.9, 198.4, 199.4, 199.9, 200.9, 201.1, 201.4, 201.3, 203.6, 209.5, 208.6, 210.7, 211.9, 212.2], \"y\": [3.0344721018699214, 3.0344721018699214, 3.109060958860994, 3.1210424645194377, 3.1419947805322432, 3.150596984114906, 3.173459961337718, 3.177637076851603, 3.1788868166518376, 3.178470410233162, 3.2244602031621015, 3.3495531485098167, 3.3235961356386037, 3.3686741899565953, 3.3971893602646164, 3.4031953843248286], \"type\": \"scatter\", \"uid\": \"7b42eabc-a1de-11e8-84a2-d05349f0ce53\"}],\n",
       "            {\"legend\": {\"orientation\": \"h\", \"y\": -0.05}, \"title\": \"Gr\\u00e1fico do dataset, modelo linear e respectivo erro\", \"xaxis\": {\"title\": \"Temperatura de ebuli\\u00e7\\u00e3o (\\u00b0F)\", \"titlefont\": {\"color\": \"#7f7f7f\", \"family\": \"Courier New, monospace\", \"size\": 18}}, \"yaxis\": {\"range\": [2.997599773624431, 3.440067712570319], \"title\": \"Logar\\u00edtimo da Press\\u00e3o (polegadas de Hg)\", \"titlefont\": {\"color\": \"#7f7f7f\", \"family\": \"Courier New, monospace\", \"size\": 18}}, \"yaxis2\": {\"overlaying\": \"y\", \"range\": [2.997599773624431, 3.440067712570319], \"side\": \"left\", \"visible\": false}, \"yaxis3\": {\"anchor\": \"x\", \"overlaying\": \"y\", \"side\": \"right\", \"title\": \"M\\u00f3dulo do erro\", \"titlefont\": {\"color\": \"#7f7f7f\", \"family\": \"Courier New, monospace\", \"size\": 18}}},\n",
       "            {\"showLink\": true, \"linkText\": \"Export to plot.ly\"}\n",
       "        ).then(function () {return Plotly.addFrames('ab5ac1ab-7338-4a2e-9e09-46e21f43c0e9',{});}).then(function(){Plotly.animate('ab5ac1ab-7338-4a2e-9e09-46e21f43c0e9');})\n",
       "        });</script>"
      ],
      "text/vnd.plotly.v1+html": [
       "<div id=\"ab5ac1ab-7338-4a2e-9e09-46e21f43c0e9\" style=\"height: 525px; width: 100%;\" class=\"plotly-graph-div\"></div><script type=\"text/javascript\">require([\"plotly\"], function(Plotly) { window.PLOTLYENV=window.PLOTLYENV || {};window.PLOTLYENV.BASE_URL=\"https://plot.ly\";\n",
       "        Plotly.plot(\n",
       "            'ab5ac1ab-7338-4a2e-9e09-46e21f43c0e9',\n",
       "            [{\"name\": \"m\\u00f3dulo do erro\", \"x\": [194.5, 194.3, 197.9, 198.4, 199.4, 199.9, 200.9, 201.1, 201.4, 201.3, 203.6, 209.5, 208.6, 210.7, 211.9, 212.2], \"y\": [0.004620594269773903, 0.0005168832810569235, 0.00020517591310431627, 0.0019274040997552255, 0.002361165168973667, 0.0007040912798439436, 0.003048513559068766, 0.0031219180842372296, 0.0017839085986044445, 0.00014845952292130704, 0.0013513429642304509, 0.0026821282163242977, 0.004808185205661175, 0.002819096269200738, 0.0010738081065158056, 0.0009242656836527807], \"yaxis\": \"y3\", \"type\": \"bar\", \"uid\": \"7b42eaba-a1de-11e8-84a2-d05349f0ce53\"}, {\"mode\": \"lines\", \"name\": \"modelo linear\", \"x\": [194.3, 194.4808080808081, 194.66161616161617, 194.84242424242424, 195.02323232323232, 195.20404040404043, 195.3848484848485, 195.56565656565658, 195.74646464646466, 195.92727272727274, 196.1080808080808, 196.2888888888889, 196.46969696969697, 196.65050505050505, 196.83131313131315, 197.01212121212123, 197.1929292929293, 197.37373737373738, 197.55454545454546, 197.73535353535354, 197.91616161616162, 198.0969696969697, 198.27777777777777, 198.45858585858588, 198.63939393939395, 198.82020202020203, 199.0010101010101, 199.1818181818182, 199.36262626262626, 199.54343434343434, 199.72424242424242, 199.9050505050505, 200.0858585858586, 200.26666666666668, 200.44747474747476, 200.62828282828283, 200.8090909090909, 200.989898989899, 201.17070707070707, 201.35151515151514, 201.53232323232322, 201.71313131313133, 201.8939393939394, 202.07474747474748, 202.25555555555556, 202.43636363636364, 202.61717171717171, 202.7979797979798, 202.97878787878787, 203.15959595959595, 203.34040404040405, 203.52121212121213, 203.7020202020202, 203.88282828282829, 204.06363636363636, 204.24444444444444, 204.42525252525252, 204.6060606060606, 204.78686868686867, 204.96767676767678, 205.14848484848486, 205.32929292929293, 205.510101010101, 205.6909090909091, 205.87171717171717, 206.05252525252524, 206.23333333333332, 206.4141414141414, 206.5949494949495, 206.77575757575758, 206.95656565656566, 207.13737373737374, 207.3181818181818, 207.4989898989899, 207.67979797979797, 207.86060606060605, 208.04141414141412, 208.22222222222223, 208.4030303030303, 208.58383838383838, 208.76464646464646, 208.94545454545454, 209.12626262626262, 209.3070707070707, 209.48787878787877, 209.66868686868685, 209.84949494949495, 210.03030303030303, 210.2111111111111, 210.3919191919192, 210.57272727272726, 210.75353535353534, 210.93434343434342, 211.1151515151515, 211.29595959595957, 211.47676767676768, 211.65757575757576, 211.83838383838383, 212.0191919191919, 212.2], \"y\": [3.0349889851509784, 3.0386989056912834, 3.0424088262315885, 3.046118746771893, 3.049828667312198, 3.053538587852504, 3.057248508392809, 3.0609584289331133, 3.0646683494734184, 3.0683782700137234, 3.0720881905540285, 3.0757981110943335, 3.0795080316346386, 3.0832179521749437, 3.0869278727152487, 3.0906377932555538, 3.094347713795859, 3.098057634336164, 3.101767554876469, 3.105477475416774, 3.109187395957079, 3.112897316497384, 3.1166072370376883, 3.120317157577994, 3.1240270781182993, 3.1277369986586043, 3.1314469191989094, 3.1351568397392144, 3.1388667602795186, 3.1425766808198237, 3.1462866013601287, 3.1499965219004338, 3.1537064424407397, 3.1574163629810448, 3.161126283521349, 3.164836204061654, 3.168546124601959, 3.172256045142264, 3.175965965682569, 3.1796758862228742, 3.1833858067631793, 3.1870957273034843, 3.1908056478437894, 3.1945155683840945, 3.1982254889243995, 3.2019354094647046, 3.2056453300050096, 3.2093552505453147, 3.2130651710856197, 3.216775091625924, 3.22048501216623, 3.224194932706535, 3.22790485324684, 3.231614773787145, 3.23532469432745, 3.2390346148677542, 3.2427445354080593, 3.2464544559483643, 3.2501643764886694, 3.2538742970289753, 3.2575842175692804, 3.2612941381095846, 3.2650040586498896, 3.2687139791901947, 3.2724238997304997, 3.276133820270805, 3.27984374081111, 3.283553661351415, 3.28726358189172, 3.290973502432025, 3.29468342297233, 3.298393343512635, 3.30210326405294, 3.3058131845932452, 3.3095231051335503, 3.3132330256738554, 3.3169429462141595, 3.3206528667544655, 3.3243627872947705, 3.3280727078350756, 3.3317826283753806, 3.3354925489156857, 3.33920246945599, 3.342912389996295, 3.3466223105366, 3.350332231076905, 3.354042151617211, 3.357752072157516, 3.36146199269782, 3.3651719132381253, 3.3688818337784303, 3.3725917543187354, 3.3763016748590404, 3.3800115953993455, 3.3837215159396505, 3.3874314364799556, 3.3911413570202606, 3.3948512775605657, 3.3985611981008708, 3.402271118641176], \"yaxis\": \"y2\", \"type\": \"scatter\", \"uid\": \"7b42eabb-a1de-11e8-84a2-d05349f0ce53\"}, {\"mode\": \"markers\", \"name\": \"dataset\", \"x\": [194.5, 194.3, 197.9, 198.4, 199.4, 199.9, 200.9, 201.1, 201.4, 201.3, 203.6, 209.5, 208.6, 210.7, 211.9, 212.2], \"y\": [3.0344721018699214, 3.0344721018699214, 3.109060958860994, 3.1210424645194377, 3.1419947805322432, 3.150596984114906, 3.173459961337718, 3.177637076851603, 3.1788868166518376, 3.178470410233162, 3.2244602031621015, 3.3495531485098167, 3.3235961356386037, 3.3686741899565953, 3.3971893602646164, 3.4031953843248286], \"type\": \"scatter\", \"uid\": \"7b42eabc-a1de-11e8-84a2-d05349f0ce53\"}],\n",
       "            {\"legend\": {\"orientation\": \"h\", \"y\": -0.05}, \"title\": \"Gr\\u00e1fico do dataset, modelo linear e respectivo erro\", \"xaxis\": {\"title\": \"Temperatura de ebuli\\u00e7\\u00e3o (\\u00b0F)\", \"titlefont\": {\"color\": \"#7f7f7f\", \"family\": \"Courier New, monospace\", \"size\": 18}}, \"yaxis\": {\"range\": [2.997599773624431, 3.440067712570319], \"title\": \"Logar\\u00edtimo da Press\\u00e3o (polegadas de Hg)\", \"titlefont\": {\"color\": \"#7f7f7f\", \"family\": \"Courier New, monospace\", \"size\": 18}}, \"yaxis2\": {\"overlaying\": \"y\", \"range\": [2.997599773624431, 3.440067712570319], \"side\": \"left\", \"visible\": false}, \"yaxis3\": {\"anchor\": \"x\", \"overlaying\": \"y\", \"side\": \"right\", \"title\": \"M\\u00f3dulo do erro\", \"titlefont\": {\"color\": \"#7f7f7f\", \"family\": \"Courier New, monospace\", \"size\": 18}}},\n",
       "            {\"showLink\": true, \"linkText\": \"Export to plot.ly\"}\n",
       "        ).then(function () {return Plotly.addFrames('ab5ac1ab-7338-4a2e-9e09-46e21f43c0e9',{});}).then(function(){Plotly.animate('ab5ac1ab-7338-4a2e-9e09-46e21f43c0e9');})\n",
       "        });</script>"
      ]
     },
     "metadata": {},
     "output_type": "display_data"
    },
    {
     "data": {
      "application/vnd.plotly.v1+json": {
       "data": [
        {
         "histnorm": "probability density",
         "type": "histogram",
         "uid": "7b42eabd-a1de-11e8-84a2-d05349f0ce53",
         "x": [
          -0.004620594269773903,
          -0.0005168832810569235,
          0.00020517591310431627,
          0.0019274040997552255,
          0.002361165168973667,
          0.0007040912798439436,
          0.003048513559068766,
          0.0031219180842372296,
          -0.0017839085986044445,
          -0.00014845952292130704,
          -0.0013513429642304509,
          0.0026821282163242977,
          -0.004808185205661175,
          -0.002819096269200738,
          0.0010738081065158056,
          0.0009242656836527807
         ]
        }
       ],
       "layout": {
        "title": "Histograma dos resíduos",
        "xaxis": {
         "title": "Valor do erro",
         "titlefont": {
          "color": "#7f7f7f",
          "family": "Courier New, monospace",
          "size": 18
         }
        },
        "yaxis": {
         "title": "Densidade de probabilidade",
         "titlefont": {
          "color": "#7f7f7f",
          "family": "Courier New, monospace",
          "size": 18
         }
        }
       }
      },
      "text/html": [
       "<div id=\"1439280d-7ac7-4c73-9a9a-00b904e17226\" style=\"height: 525px; width: 100%;\" class=\"plotly-graph-div\"></div><script type=\"text/javascript\">require([\"plotly\"], function(Plotly) { window.PLOTLYENV=window.PLOTLYENV || {};window.PLOTLYENV.BASE_URL=\"https://plot.ly\";\n",
       "        Plotly.plot(\n",
       "            '1439280d-7ac7-4c73-9a9a-00b904e17226',\n",
       "            [{\"histnorm\": \"probability density\", \"x\": [-0.004620594269773903, -0.0005168832810569235, 0.00020517591310431627, 0.0019274040997552255, 0.002361165168973667, 0.0007040912798439436, 0.003048513559068766, 0.0031219180842372296, -0.0017839085986044445, -0.00014845952292130704, -0.0013513429642304509, 0.0026821282163242977, -0.004808185205661175, -0.002819096269200738, 0.0010738081065158056, 0.0009242656836527807], \"type\": \"histogram\", \"uid\": \"7b42eabd-a1de-11e8-84a2-d05349f0ce53\"}],\n",
       "            {\"title\": \"Histograma dos res\\u00edduos\", \"xaxis\": {\"title\": \"Valor do erro\", \"titlefont\": {\"color\": \"#7f7f7f\", \"family\": \"Courier New, monospace\", \"size\": 18}}, \"yaxis\": {\"title\": \"Densidade de probabilidade\", \"titlefont\": {\"color\": \"#7f7f7f\", \"family\": \"Courier New, monospace\", \"size\": 18}}},\n",
       "            {\"showLink\": true, \"linkText\": \"Export to plot.ly\"}\n",
       "        ).then(function () {return Plotly.addFrames('1439280d-7ac7-4c73-9a9a-00b904e17226',{});}).then(function(){Plotly.animate('1439280d-7ac7-4c73-9a9a-00b904e17226');})\n",
       "        });</script>"
      ],
      "text/vnd.plotly.v1+html": [
       "<div id=\"1439280d-7ac7-4c73-9a9a-00b904e17226\" style=\"height: 525px; width: 100%;\" class=\"plotly-graph-div\"></div><script type=\"text/javascript\">require([\"plotly\"], function(Plotly) { window.PLOTLYENV=window.PLOTLYENV || {};window.PLOTLYENV.BASE_URL=\"https://plot.ly\";\n",
       "        Plotly.plot(\n",
       "            '1439280d-7ac7-4c73-9a9a-00b904e17226',\n",
       "            [{\"histnorm\": \"probability density\", \"x\": [-0.004620594269773903, -0.0005168832810569235, 0.00020517591310431627, 0.0019274040997552255, 0.002361165168973667, 0.0007040912798439436, 0.003048513559068766, 0.0031219180842372296, -0.0017839085986044445, -0.00014845952292130704, -0.0013513429642304509, 0.0026821282163242977, -0.004808185205661175, -0.002819096269200738, 0.0010738081065158056, 0.0009242656836527807], \"type\": \"histogram\", \"uid\": \"7b42eabd-a1de-11e8-84a2-d05349f0ce53\"}],\n",
       "            {\"title\": \"Histograma dos res\\u00edduos\", \"xaxis\": {\"title\": \"Valor do erro\", \"titlefont\": {\"color\": \"#7f7f7f\", \"family\": \"Courier New, monospace\", \"size\": 18}}, \"yaxis\": {\"title\": \"Densidade de probabilidade\", \"titlefont\": {\"color\": \"#7f7f7f\", \"family\": \"Courier New, monospace\", \"size\": 18}}},\n",
       "            {\"showLink\": true, \"linkText\": \"Export to plot.ly\"}\n",
       "        ).then(function () {return Plotly.addFrames('1439280d-7ac7-4c73-9a9a-00b904e17226',{});}).then(function(){Plotly.animate('1439280d-7ac7-4c73-9a9a-00b904e17226');})\n",
       "        });</script>"
      ]
     },
     "metadata": {},
     "output_type": "display_data"
    },
    {
     "data": {
      "application/vnd.plotly.v1+json": {
       "data": [
        {
         "boxmean": "sd",
         "boxpoints": "all",
         "jitter": 0.3,
         "pointpos": -1.8,
         "type": "box",
         "uid": "7b42eabe-a1de-11e8-84a2-d05349f0ce53",
         "y": [
          -0.004620594269773903,
          -0.0005168832810569235,
          0.00020517591310431627,
          0.0019274040997552255,
          0.002361165168973667,
          0.0007040912798439436,
          0.003048513559068766,
          0.0031219180842372296,
          -0.0017839085986044445,
          -0.00014845952292130704,
          -0.0013513429642304509,
          0.0026821282163242977,
          -0.004808185205661175,
          -0.002819096269200738,
          0.0010738081065158056,
          0.0009242656836527807
         ]
        }
       ],
       "layout": {
        "title": "Boxplot dos resíduos"
       }
      },
      "text/html": [
       "<div id=\"396e97f3-12ce-4a9e-818e-ec2fe4d0e202\" style=\"height: 525px; width: 100%;\" class=\"plotly-graph-div\"></div><script type=\"text/javascript\">require([\"plotly\"], function(Plotly) { window.PLOTLYENV=window.PLOTLYENV || {};window.PLOTLYENV.BASE_URL=\"https://plot.ly\";\n",
       "        Plotly.plot(\n",
       "            '396e97f3-12ce-4a9e-818e-ec2fe4d0e202',\n",
       "            [{\"boxmean\": \"sd\", \"boxpoints\": \"all\", \"jitter\": 0.3, \"pointpos\": -1.8, \"y\": [-0.004620594269773903, -0.0005168832810569235, 0.00020517591310431627, 0.0019274040997552255, 0.002361165168973667, 0.0007040912798439436, 0.003048513559068766, 0.0031219180842372296, -0.0017839085986044445, -0.00014845952292130704, -0.0013513429642304509, 0.0026821282163242977, -0.004808185205661175, -0.002819096269200738, 0.0010738081065158056, 0.0009242656836527807], \"type\": \"box\", \"uid\": \"7b42eabe-a1de-11e8-84a2-d05349f0ce53\"}],\n",
       "            {\"title\": \"Boxplot dos res\\u00edduos\"},\n",
       "            {\"showLink\": true, \"linkText\": \"Export to plot.ly\"}\n",
       "        ).then(function () {return Plotly.addFrames('396e97f3-12ce-4a9e-818e-ec2fe4d0e202',{});}).then(function(){Plotly.animate('396e97f3-12ce-4a9e-818e-ec2fe4d0e202');})\n",
       "        });</script>"
      ],
      "text/vnd.plotly.v1+html": [
       "<div id=\"396e97f3-12ce-4a9e-818e-ec2fe4d0e202\" style=\"height: 525px; width: 100%;\" class=\"plotly-graph-div\"></div><script type=\"text/javascript\">require([\"plotly\"], function(Plotly) { window.PLOTLYENV=window.PLOTLYENV || {};window.PLOTLYENV.BASE_URL=\"https://plot.ly\";\n",
       "        Plotly.plot(\n",
       "            '396e97f3-12ce-4a9e-818e-ec2fe4d0e202',\n",
       "            [{\"boxmean\": \"sd\", \"boxpoints\": \"all\", \"jitter\": 0.3, \"pointpos\": -1.8, \"y\": [-0.004620594269773903, -0.0005168832810569235, 0.00020517591310431627, 0.0019274040997552255, 0.002361165168973667, 0.0007040912798439436, 0.003048513559068766, 0.0031219180842372296, -0.0017839085986044445, -0.00014845952292130704, -0.0013513429642304509, 0.0026821282163242977, -0.004808185205661175, -0.002819096269200738, 0.0010738081065158056, 0.0009242656836527807], \"type\": \"box\", \"uid\": \"7b42eabe-a1de-11e8-84a2-d05349f0ce53\"}],\n",
       "            {\"title\": \"Boxplot dos res\\u00edduos\"},\n",
       "            {\"showLink\": true, \"linkText\": \"Export to plot.ly\"}\n",
       "        ).then(function () {return Plotly.addFrames('396e97f3-12ce-4a9e-818e-ec2fe4d0e202',{});}).then(function(){Plotly.animate('396e97f3-12ce-4a9e-818e-ec2fe4d0e202');})\n",
       "        });</script>"
      ]
     },
     "metadata": {},
     "output_type": "display_data"
    },
    {
     "data": {
      "text/html": [
       "<div>\n",
       "<style scoped>\n",
       "    .dataframe tbody tr th:only-of-type {\n",
       "        vertical-align: middle;\n",
       "    }\n",
       "\n",
       "    .dataframe tbody tr th {\n",
       "        vertical-align: top;\n",
       "    }\n",
       "\n",
       "    .dataframe thead th {\n",
       "        text-align: right;\n",
       "    }\n",
       "</style>\n",
       "<table border=\"1\" class=\"dataframe\">\n",
       "  <thead>\n",
       "    <tr style=\"text-align: right;\">\n",
       "      <th></th>\n",
       "      <th>Parâmetros da regressão</th>\n",
       "      <th>R²</th>\n",
       "      <th>Var(e)</th>\n",
       "      <th>SW P-value</th>\n",
       "    </tr>\n",
       "  </thead>\n",
       "  <tbody>\n",
       "    <tr>\n",
       "      <th>0</th>\n",
       "      <td>[0.020518554943586467, -0.9517662403878724]</td>\n",
       "      <td>0.999569</td>\n",
       "      <td>0.000006</td>\n",
       "      <td>0.232378</td>\n",
       "    </tr>\n",
       "  </tbody>\n",
       "</table>\n",
       "</div>"
      ],
      "text/plain": [
       "                       Parâmetros da regressão        R²    Var(e)  SW P-value\n",
       "0  [0.020518554943586467, -0.9517662403878724]  0.999569  0.000006    0.232378"
      ]
     },
     "execution_count": 25,
     "metadata": {},
     "output_type": "execute_result"
    }
   ],
   "source": [
    "# Limpando dataset\n",
    "x_clean = x.copy()\n",
    "x_clean['valores'] = [q for q in x['valores'] if q != x['valores'][index]]\n",
    "y_clean = y.copy()\n",
    "y_clean['valores'] = [q for q in y['valores'] if q != y['valores'][index]]\n",
    "\n",
    "# New analysis\n",
    "dfD2 = regressionAnalysis(x_clean, y_clean)\n",
    "dfD2"
   ]
  },
  {
   "cell_type": "markdown",
   "metadata": {},
   "source": [
    "Comparando os dois resultados do tópico atual:"
   ]
  },
  {
   "cell_type": "code",
   "execution_count": 27,
   "metadata": {},
   "outputs": [
    {
     "data": {
      "text/html": [
       "<div>\n",
       "<style scoped>\n",
       "    .dataframe tbody tr th:only-of-type {\n",
       "        vertical-align: middle;\n",
       "    }\n",
       "\n",
       "    .dataframe tbody tr th {\n",
       "        vertical-align: top;\n",
       "    }\n",
       "\n",
       "    .dataframe thead th {\n",
       "        text-align: right;\n",
       "    }\n",
       "</style>\n",
       "<table border=\"1\" class=\"dataframe\">\n",
       "  <thead>\n",
       "    <tr style=\"text-align: right;\">\n",
       "      <th></th>\n",
       "      <th>Parâmetros da regressão</th>\n",
       "      <th>R²</th>\n",
       "      <th>Var(e)</th>\n",
       "      <th>SW P-value</th>\n",
       "    </tr>\n",
       "  </thead>\n",
       "  <tbody>\n",
       "    <tr>\n",
       "      <th>Modelo log(p) com outlier</th>\n",
       "      <td>[0.020622361139063856, -0.9708662096193041]</td>\n",
       "      <td>0.994961</td>\n",
       "      <td>0.000071</td>\n",
       "      <td>0.000003</td>\n",
       "    </tr>\n",
       "    <tr>\n",
       "      <th>Modelo log(p) sem outlier</th>\n",
       "      <td>[0.020518554943586467, -0.9517662403878724]</td>\n",
       "      <td>0.999569</td>\n",
       "      <td>0.000006</td>\n",
       "      <td>0.232378</td>\n",
       "    </tr>\n",
       "  </tbody>\n",
       "</table>\n",
       "</div>"
      ],
      "text/plain": [
       "                                               Parâmetros da regressão  \\\n",
       "Modelo log(p) com outlier  [0.020622361139063856, -0.9708662096193041]   \n",
       "Modelo log(p) sem outlier  [0.020518554943586467, -0.9517662403878724]   \n",
       "\n",
       "                                 R²    Var(e)  SW P-value  \n",
       "Modelo log(p) com outlier  0.994961  0.000071    0.000003  \n",
       "Modelo log(p) sem outlier  0.999569  0.000006    0.232378  "
      ]
     },
     "execution_count": 27,
     "metadata": {},
     "output_type": "execute_result"
    }
   ],
   "source": [
    "compDeD2 = pd.concat([dfD, dfD2])\n",
    "compDeD2.index = [\"Modelo log(p) com outlier\", \"Modelo log(p) sem outlier\"]\n",
    "compDeD2"
   ]
  },
  {
   "cell_type": "markdown",
   "metadata": {},
   "source": [
    "Podemos enumerar os efeitos positivos da retirada do outlier nas métricas adotadas para validar o modelo:\n",
    "  * Valor de $R^2$ aumentou;\n",
    "  * Variância dos resíduos diminuiu;\n",
    "  * P-value do teste de Shapiro-Wilk aumentou ao ponto de permitir a aceitação da hipótese de normalidade dos resíduos.\n",
    "  \n",
    "Os resultados foram parecidos com o da seção anterior: o outlier afetou a normalidade dos resíduos, mas, a melhor forma de proceder é adquirir mais dados em vez de produzir um modelo retirando o outlier do *dataset*."
   ]
  },
  {
   "cell_type": "markdown",
   "metadata": {},
   "source": [
    "Finalmente, comparou-se os quatro modelos:"
   ]
  },
  {
   "cell_type": "code",
   "execution_count": 28,
   "metadata": {
    "scrolled": true
   },
   "outputs": [
    {
     "data": {
      "text/html": [
       "<div>\n",
       "<style scoped>\n",
       "    .dataframe tbody tr th:only-of-type {\n",
       "        vertical-align: middle;\n",
       "    }\n",
       "\n",
       "    .dataframe tbody tr th {\n",
       "        vertical-align: top;\n",
       "    }\n",
       "\n",
       "    .dataframe thead th {\n",
       "        text-align: right;\n",
       "    }\n",
       "</style>\n",
       "<table border=\"1\" class=\"dataframe\">\n",
       "  <thead>\n",
       "    <tr style=\"text-align: right;\">\n",
       "      <th></th>\n",
       "      <th>Parâmetros da regressão</th>\n",
       "      <th>R²</th>\n",
       "      <th>Var(e)</th>\n",
       "      <th>SW P-value</th>\n",
       "    </tr>\n",
       "  </thead>\n",
       "  <tbody>\n",
       "    <tr>\n",
       "      <th>Modelo original com outlier</th>\n",
       "      <td>[0.5228924007846376, -81.0637271286563]</td>\n",
       "      <td>0.994428</td>\n",
       "      <td>0.050821</td>\n",
       "      <td>0.023949</td>\n",
       "    </tr>\n",
       "    <tr>\n",
       "      <th>Modelo original sem outlier</th>\n",
       "      <td>[0.520737829134305, -80.66729363989373]</td>\n",
       "      <td>0.997478</td>\n",
       "      <td>0.024124</td>\n",
       "      <td>0.366088</td>\n",
       "    </tr>\n",
       "    <tr>\n",
       "      <th>Modelo log(p) com outlier</th>\n",
       "      <td>[0.020622361139063856, -0.9708662096193041]</td>\n",
       "      <td>0.994961</td>\n",
       "      <td>0.000071</td>\n",
       "      <td>0.000003</td>\n",
       "    </tr>\n",
       "    <tr>\n",
       "      <th>Modelo log(p) sem outlier</th>\n",
       "      <td>[0.020518554943586467, -0.9517662403878724]</td>\n",
       "      <td>0.999569</td>\n",
       "      <td>0.000006</td>\n",
       "      <td>0.232378</td>\n",
       "    </tr>\n",
       "  </tbody>\n",
       "</table>\n",
       "</div>"
      ],
      "text/plain": [
       "                                                 Parâmetros da regressão  \\\n",
       "Modelo original com outlier      [0.5228924007846376, -81.0637271286563]   \n",
       "Modelo original sem outlier      [0.520737829134305, -80.66729363989373]   \n",
       "Modelo log(p) com outlier    [0.020622361139063856, -0.9708662096193041]   \n",
       "Modelo log(p) sem outlier    [0.020518554943586467, -0.9517662403878724]   \n",
       "\n",
       "                                   R²    Var(e)  SW P-value  \n",
       "Modelo original com outlier  0.994428  0.050821    0.023949  \n",
       "Modelo original sem outlier  0.997478  0.024124    0.366088  \n",
       "Modelo log(p) com outlier    0.994961  0.000071    0.000003  \n",
       "Modelo log(p) sem outlier    0.999569  0.000006    0.232378  "
      ]
     },
     "execution_count": 28,
     "metadata": {},
     "output_type": "execute_result"
    }
   ],
   "source": [
    "resultado = pd.concat([dfB, dfB2, dfD, dfD2])\n",
    "resultado.index = [\"Modelo original com outlier\", \n",
    "                   \"Modelo original sem outlier\", \n",
    "                   \"Modelo log(p) com outlier\",  \n",
    "                   \"Modelo log(p) sem outlier\"]\n",
    "resultado"
   ]
  },
  {
   "cell_type": "markdown",
   "metadata": {},
   "source": [
    "Conclui-se que o outlier afetou negativamente os modelos nos dois casos e que de forma geral o modelo logarítmico (\\textit{i.e.} modelo linear utilizando logarítmo da pressão como variável dependente) apresentou o valor de $R^2$ levemente mais alto que o modelo linear original."
   ]
  }
 ],
 "metadata": {
  "kernelspec": {
   "display_name": "Python 3",
   "language": "python",
   "name": "python3"
  },
  "language_info": {
   "codemirror_mode": {
    "name": "ipython",
    "version": 3
   },
   "file_extension": ".py",
   "mimetype": "text/x-python",
   "name": "python",
   "nbconvert_exporter": "python",
   "pygments_lexer": "ipython3",
   "version": "3.6.5"
  }
 },
 "nbformat": 4,
 "nbformat_minor": 2
}
